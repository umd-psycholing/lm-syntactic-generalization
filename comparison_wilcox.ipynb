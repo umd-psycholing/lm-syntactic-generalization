{
 "cells": [
  {
   "cell_type": "code",
   "execution_count": 98,
   "id": "d43240c9",
   "metadata": {},
   "outputs": [],
   "source": [
    "import pandas as pd\n",
    "import numpy as np\n",
    "import matplotlib.pyplot as plt\n",
    "import seaborn as sns"
   ]
  },
  {
   "cell_type": "markdown",
   "id": "d03521d4",
   "metadata": {},
   "source": [
    "The figures outputted by `wilcox_replication.py` don't completely match the results from one of the figures in the paper and the repo. The paper's figure had error bars, while we plotted the aggregate values. "
   ]
  },
  {
   "cell_type": "code",
   "execution_count": 99,
   "id": "a2365cf5",
   "metadata": {},
   "outputs": [
    {
     "data": {
      "text/html": [
       "<div>\n",
       "<style scoped>\n",
       "    .dataframe tbody tr th:only-of-type {\n",
       "        vertical-align: middle;\n",
       "    }\n",
       "\n",
       "    .dataframe tbody tr th {\n",
       "        vertical-align: top;\n",
       "    }\n",
       "\n",
       "    .dataframe thead th {\n",
       "        text-align: right;\n",
       "    }\n",
       "</style>\n",
       "<table border=\"1\" class=\"dataframe\">\n",
       "  <thead>\n",
       "    <tr style=\"text-align: right;\">\n",
       "      <th></th>\n",
       "      <th>token</th>\n",
       "      <th>word_idx</th>\n",
       "      <th>test</th>\n",
       "      <th>item</th>\n",
       "      <th>condition</th>\n",
       "      <th>region</th>\n",
       "      <th>NGRAM</th>\n",
       "      <th>JRNN</th>\n",
       "      <th>GPT2</th>\n",
       "      <th>GRNN</th>\n",
       "      <th>GPT3</th>\n",
       "      <th>sent_index.y</th>\n",
       "    </tr>\n",
       "  </thead>\n",
       "  <tbody>\n",
       "    <tr>\n",
       "      <th>0</th>\n",
       "      <td>a</td>\n",
       "      <td>1</td>\n",
       "      <td>islands_left-branch</td>\n",
       "      <td>6.0</td>\n",
       "      <td>what_nogap_obj</td>\n",
       "      <td>compl_obj</td>\n",
       "      <td>7.578117</td>\n",
       "      <td>6.370591</td>\n",
       "      <td>3.889192</td>\n",
       "      <td>4.003127</td>\n",
       "      <td>5.733870</td>\n",
       "      <td>5.0</td>\n",
       "    </tr>\n",
       "    <tr>\n",
       "      <th>1</th>\n",
       "      <td>a</td>\n",
       "      <td>2</td>\n",
       "      <td>islands_left-branch</td>\n",
       "      <td>6.0</td>\n",
       "      <td>what_nogap_obj</td>\n",
       "      <td>det</td>\n",
       "      <td>4.381148</td>\n",
       "      <td>9.784269</td>\n",
       "      <td>6.762110</td>\n",
       "      <td>7.567266</td>\n",
       "      <td>7.003057</td>\n",
       "      <td>10.0</td>\n",
       "    </tr>\n",
       "    <tr>\n",
       "      <th>2</th>\n",
       "      <td>at</td>\n",
       "      <td>1</td>\n",
       "      <td>islands_left-branch</td>\n",
       "      <td>6.0</td>\n",
       "      <td>what_nogap_obj</td>\n",
       "      <td>continuation</td>\n",
       "      <td>8.266112</td>\n",
       "      <td>7.997192</td>\n",
       "      <td>4.781812</td>\n",
       "      <td>6.057877</td>\n",
       "      <td>5.468515</td>\n",
       "      <td>13.0</td>\n",
       "    </tr>\n",
       "    <tr>\n",
       "      <th>3</th>\n",
       "      <td>famous</td>\n",
       "      <td>1</td>\n",
       "      <td>islands_left-branch</td>\n",
       "      <td>6.0</td>\n",
       "      <td>what_nogap_obj</td>\n",
       "      <td>compl</td>\n",
       "      <td>16.049656</td>\n",
       "      <td>17.486204</td>\n",
       "      <td>9.678955</td>\n",
       "      <td>14.816560</td>\n",
       "      <td>9.376879</td>\n",
       "      <td>4.0</td>\n",
       "    </tr>\n",
       "    <tr>\n",
       "      <th>4</th>\n",
       "      <td>famous</td>\n",
       "      <td>2</td>\n",
       "      <td>islands_left-branch</td>\n",
       "      <td>6.0</td>\n",
       "      <td>what_nogap_obj</td>\n",
       "      <td>adj</td>\n",
       "      <td>15.842245</td>\n",
       "      <td>10.961686</td>\n",
       "      <td>7.109228</td>\n",
       "      <td>11.753505</td>\n",
       "      <td>6.323471</td>\n",
       "      <td>11.0</td>\n",
       "    </tr>\n",
       "  </tbody>\n",
       "</table>\n",
       "</div>"
      ],
      "text/plain": [
       "    token  word_idx                 test  item       condition        region  \\\n",
       "0       a         1  islands_left-branch   6.0  what_nogap_obj     compl_obj   \n",
       "1       a         2  islands_left-branch   6.0  what_nogap_obj           det   \n",
       "2      at         1  islands_left-branch   6.0  what_nogap_obj  continuation   \n",
       "3  famous         1  islands_left-branch   6.0  what_nogap_obj         compl   \n",
       "4  famous         2  islands_left-branch   6.0  what_nogap_obj           adj   \n",
       "\n",
       "       NGRAM       JRNN      GPT2       GRNN      GPT3  sent_index.y  \n",
       "0   7.578117   6.370591  3.889192   4.003127  5.733870           5.0  \n",
       "1   4.381148   9.784269  6.762110   7.567266  7.003057          10.0  \n",
       "2   8.266112   7.997192  4.781812   6.057877  5.468515          13.0  \n",
       "3  16.049656  17.486204  9.678955  14.816560  9.376879           4.0  \n",
       "4  15.842245  10.961686  7.109228  11.753505  6.323471          11.0  "
      ]
     },
     "execution_count": 99,
     "metadata": {},
     "output_type": "execute_result"
    }
   ],
   "source": [
    "wilcox_results = pd.read_csv(\"fgd_learnability/data/combined_results.csv\")\n",
    "wilcox_results.head()"
   ]
  },
  {
   "cell_type": "code",
   "execution_count": 100,
   "id": "a3e5fdf0",
   "metadata": {},
   "outputs": [
    {
     "data": {
      "text/plain": [
       "array(['islands_left-branch', 'basic_subject', 'basic_object', 'basic_pp',\n",
       "       'islands_adjunct', 'islands_coordination', 'islands_cnp',\n",
       "       'that_trace', 'embed4', 'embed3', 'embed2', 'embed1',\n",
       "       'parasitic-gaps', 'islands_ss', 'islands_subject', 'islands_wh',\n",
       "       'gender_adjunct', 'gender_sent-subj', 'gender_subj', 'gender_wh',\n",
       "       'gender_cnp', 'gender_coord', nan, 'hierarchy'], dtype=object)"
      ]
     },
     "execution_count": 100,
     "metadata": {},
     "output_type": "execute_result"
    }
   ],
   "source": [
    "wilcox_results['test'].unique()"
   ]
  },
  {
   "cell_type": "code",
   "execution_count": 101,
   "id": "96e3fda9",
   "metadata": {},
   "outputs": [
    {
     "name": "stderr",
     "output_type": "stream",
     "text": [
      "/var/folders/23/7hcv_qtd60j5mx97z8mfdjgh0000gn/T/ipykernel_22827/2731934115.py:2: SettingWithCopyWarning: \n",
      "A value is trying to be set on a copy of a slice from a DataFrame.\n",
      "Try using .loc[row_indexer,col_indexer] = value instead\n",
      "\n",
      "See the caveats in the documentation: https://pandas.pydata.org/pandas-docs/stable/user_guide/indexing.html#returning-a-view-versus-a-copy\n",
      "  df_basic[['wh', 'gap']] = df_basic['condition'].str.split('_', expand=True)\n",
      "/var/folders/23/7hcv_qtd60j5mx97z8mfdjgh0000gn/T/ipykernel_22827/2731934115.py:2: SettingWithCopyWarning: \n",
      "A value is trying to be set on a copy of a slice from a DataFrame.\n",
      "Try using .loc[row_indexer,col_indexer] = value instead\n",
      "\n",
      "See the caveats in the documentation: https://pandas.pydata.org/pandas-docs/stable/user_guide/indexing.html#returning-a-view-versus-a-copy\n",
      "  df_basic[['wh', 'gap']] = df_basic['condition'].str.split('_', expand=True)\n"
     ]
    }
   ],
   "source": [
    "df_basic = wilcox_results[wilcox_results['test'].isin(['basic_subject', 'basic_object', 'basic_pp'])]\n",
    "df_basic[['wh', 'gap']] = df_basic['condition'].str.split('_', expand=True)\n",
    "df_basic = df_basic.melt(id_vars=['test', 'item', 'wh', 'gap', 'region'], value_vars=df_basic[['GPT2', 'GRNN']], var_name='model', value_name='surprisal')\n",
    "df_basic = df_basic.groupby(['test', 'item', 'wh', 'gap', 'region', 'model']).agg({'surprisal': 'sum'}).reset_index()\n",
    "df_basic['test'] = pd.Categorical(df_basic['test'], categories=[\"basic_subject\", \"basic_object\", \"basic_pp\"])\n",
    "df_basic = df_basic[df_basic['test'].isin([\"basic_subject\", \"basic_object\", \"basic_pp\"])]\n",
    "\n",
    "conditions = [\n",
    "    (df_basic['test'] == \"basic_subject\") & (df_basic['region'] == \"verb\") & (df_basic['gap'] == \"gap\"),\n",
    "    (df_basic['test'] == \"basic_subject\") & (df_basic['region'] == \"np1\") & (df_basic['gap'] == \"nogap\"),\n",
    "    (df_basic['test'] == \"basic_object\") & (df_basic['region'] == \"prep\") & (df_basic['gap'] == \"gap\"),\n",
    "    (df_basic['test'] == \"basic_object\") & (df_basic['region'] == \"np2\") & (df_basic['gap'] == \"nogap\"),\n",
    "    (df_basic['test'] == \"basic_pp\") & (df_basic['region'] == \"end\") & (df_basic['gap'] == \"gap\"),\n",
    "    (df_basic['test'] == \"basic_pp\") & (df_basic['region'] == \"np3\") & (df_basic['gap'] == \"nogap\")\n",
    "]\n",
    "\n",
    "df_basic = df_basic[np.logical_or.reduce(conditions)]\n",
    "\n",
    "df_basic = pd.pivot_table(df_basic, values='surprisal', index=['model', 'test', 'item', 'gap'], columns='wh').reset_index()\n",
    "df_basic['whf'] = df_basic['what'] - df_basic['that']\n",
    "df_basic = df_basic.drop(['that', 'what'], axis=1)"
   ]
  },
  {
   "cell_type": "code",
   "execution_count": 177,
   "id": "651678ff",
   "metadata": {},
   "outputs": [],
   "source": [
    "avg = df_basic.groupby(['model', 'test', 'gap']).agg(\"mean\")\n",
    "avg = avg.reset_index()"
   ]
  },
  {
   "cell_type": "code",
   "execution_count": 9,
   "id": "f08b5696",
   "metadata": {},
   "outputs": [
    {
     "data": {
      "text/plain": [
       "<seaborn.axisgrid.FacetGrid at 0x1356314d0>"
      ]
     },
     "execution_count": 9,
     "metadata": {},
     "output_type": "execute_result"
    },
    {
     "data": {
      "image/png": "[encoded data removed]",
      "text/plain": [
       "<Figure size 900x300 with 3 Axes>"
      ]
     },
     "metadata": {},
     "output_type": "display_data"
    }
   ],
   "source": [
    "gpt2 = avg[avg['model'] == 'GPT2']\n",
    "g = sns.FacetGrid(gpt2, col=\"test\", hue=\"gap\")\n",
    "g.map_dataframe(plt.bar, x = 'gap', height= 'whf')"
   ]
  },
  {
   "cell_type": "code",
   "execution_count": 178,
   "metadata": {},
   "outputs": [
    {
     "data": {
      "text/plain": [
       "<seaborn.axisgrid.FacetGrid at 0x1439706d0>"
      ]
     },
     "execution_count": 178,
     "metadata": {},
     "output_type": "execute_result"
    },
    {
     "data": {
      "image/png": "[encoded data removed]",
      "text/plain": [
       "<Figure size 900x300 with 3 Axes>"
      ]
     },
     "metadata": {},
     "output_type": "display_data"
    }
   ],
   "source": [
    "grnn = avg[avg['model'] == 'GRNN']\n",
    "g = sns.FacetGrid(grnn, col=\"test\", hue=\"gap\")\n",
    "g.map_dataframe(plt.bar, x = 'gap', height= 'whf')"
   ]
  },
  {
   "cell_type": "code",
   "execution_count": 18,
   "id": "9220d35b",
   "metadata": {},
   "outputs": [
    {
     "data": {
      "text/html": [
       "<div>\n",
       "<style scoped>\n",
       "    .dataframe tbody tr th:only-of-type {\n",
       "        vertical-align: middle;\n",
       "    }\n",
       "\n",
       "    .dataframe tbody tr th {\n",
       "        vertical-align: top;\n",
       "    }\n",
       "\n",
       "    .dataframe thead th {\n",
       "        text-align: right;\n",
       "    }\n",
       "</style>\n",
       "<table border=\"1\" class=\"dataframe\">\n",
       "  <thead>\n",
       "    <tr style=\"text-align: right;\">\n",
       "      <th>wh</th>\n",
       "      <th>model</th>\n",
       "      <th>test</th>\n",
       "      <th>item</th>\n",
       "      <th>gap</th>\n",
       "      <th>whf</th>\n",
       "    </tr>\n",
       "  </thead>\n",
       "  <tbody>\n",
       "    <tr>\n",
       "      <th>0</th>\n",
       "      <td>GPT2</td>\n",
       "      <td>basic_subject</td>\n",
       "      <td>1.0</td>\n",
       "      <td>gap</td>\n",
       "      <td>-3.834650</td>\n",
       "    </tr>\n",
       "    <tr>\n",
       "      <th>1</th>\n",
       "      <td>GPT2</td>\n",
       "      <td>basic_subject</td>\n",
       "      <td>1.0</td>\n",
       "      <td>nogap</td>\n",
       "      <td>0.070066</td>\n",
       "    </tr>\n",
       "    <tr>\n",
       "      <th>2</th>\n",
       "      <td>GPT2</td>\n",
       "      <td>basic_subject</td>\n",
       "      <td>2.0</td>\n",
       "      <td>gap</td>\n",
       "      <td>-3.629212</td>\n",
       "    </tr>\n",
       "    <tr>\n",
       "      <th>3</th>\n",
       "      <td>GPT2</td>\n",
       "      <td>basic_subject</td>\n",
       "      <td>2.0</td>\n",
       "      <td>nogap</td>\n",
       "      <td>1.030886</td>\n",
       "    </tr>\n",
       "    <tr>\n",
       "      <th>4</th>\n",
       "      <td>GPT2</td>\n",
       "      <td>basic_subject</td>\n",
       "      <td>3.0</td>\n",
       "      <td>gap</td>\n",
       "      <td>0.107743</td>\n",
       "    </tr>\n",
       "    <tr>\n",
       "      <th>...</th>\n",
       "      <td>...</td>\n",
       "      <td>...</td>\n",
       "      <td>...</td>\n",
       "      <td>...</td>\n",
       "      <td>...</td>\n",
       "    </tr>\n",
       "    <tr>\n",
       "      <th>595</th>\n",
       "      <td>GRNN</td>\n",
       "      <td>basic_pp</td>\n",
       "      <td>48.0</td>\n",
       "      <td>nogap</td>\n",
       "      <td>0.853009</td>\n",
       "    </tr>\n",
       "    <tr>\n",
       "      <th>596</th>\n",
       "      <td>GRNN</td>\n",
       "      <td>basic_pp</td>\n",
       "      <td>49.0</td>\n",
       "      <td>gap</td>\n",
       "      <td>-2.637016</td>\n",
       "    </tr>\n",
       "    <tr>\n",
       "      <th>597</th>\n",
       "      <td>GRNN</td>\n",
       "      <td>basic_pp</td>\n",
       "      <td>49.0</td>\n",
       "      <td>nogap</td>\n",
       "      <td>1.620522</td>\n",
       "    </tr>\n",
       "    <tr>\n",
       "      <th>598</th>\n",
       "      <td>GRNN</td>\n",
       "      <td>basic_pp</td>\n",
       "      <td>50.0</td>\n",
       "      <td>gap</td>\n",
       "      <td>-0.446457</td>\n",
       "    </tr>\n",
       "    <tr>\n",
       "      <th>599</th>\n",
       "      <td>GRNN</td>\n",
       "      <td>basic_pp</td>\n",
       "      <td>50.0</td>\n",
       "      <td>nogap</td>\n",
       "      <td>0.286581</td>\n",
       "    </tr>\n",
       "  </tbody>\n",
       "</table>\n",
       "<p>600 rows × 5 columns</p>\n",
       "</div>"
      ],
      "text/plain": [
       "wh  model           test  item    gap       whf\n",
       "0    GPT2  basic_subject   1.0    gap -3.834650\n",
       "1    GPT2  basic_subject   1.0  nogap  0.070066\n",
       "2    GPT2  basic_subject   2.0    gap -3.629212\n",
       "3    GPT2  basic_subject   2.0  nogap  1.030886\n",
       "4    GPT2  basic_subject   3.0    gap  0.107743\n",
       "..    ...            ...   ...    ...       ...\n",
       "595  GRNN       basic_pp  48.0  nogap  0.853009\n",
       "596  GRNN       basic_pp  49.0    gap -2.637016\n",
       "597  GRNN       basic_pp  49.0  nogap  1.620522\n",
       "598  GRNN       basic_pp  50.0    gap -0.446457\n",
       "599  GRNN       basic_pp  50.0  nogap  0.286581\n",
       "\n",
       "[600 rows x 5 columns]"
      ]
     },
     "execution_count": 18,
     "metadata": {},
     "output_type": "execute_result"
    }
   ],
   "source": [
    "df_basic"
   ]
  },
  {
   "cell_type": "code",
   "execution_count": 21,
   "id": "c454778a",
   "metadata": {},
   "outputs": [
    {
     "data": {
      "text/html": [
       "<div>\n",
       "<style scoped>\n",
       "    .dataframe tbody tr th:only-of-type {\n",
       "        vertical-align: middle;\n",
       "    }\n",
       "\n",
       "    .dataframe tbody tr th {\n",
       "        vertical-align: top;\n",
       "    }\n",
       "\n",
       "    .dataframe thead th {\n",
       "        text-align: right;\n",
       "    }\n",
       "</style>\n",
       "<table border=\"1\" class=\"dataframe\">\n",
       "  <thead>\n",
       "    <tr style=\"text-align: right;\">\n",
       "      <th></th>\n",
       "      <th>wh</th>\n",
       "      <th>whf</th>\n",
       "    </tr>\n",
       "    <tr>\n",
       "      <th>test</th>\n",
       "      <th>gap</th>\n",
       "      <th></th>\n",
       "    </tr>\n",
       "  </thead>\n",
       "  <tbody>\n",
       "    <tr>\n",
       "      <th rowspan=\"2\" valign=\"top\">basic_subject</th>\n",
       "      <th>gap</th>\n",
       "      <td>-3.725968</td>\n",
       "    </tr>\n",
       "    <tr>\n",
       "      <th>nogap</th>\n",
       "      <td>0.610327</td>\n",
       "    </tr>\n",
       "    <tr>\n",
       "      <th rowspan=\"2\" valign=\"top\">basic_object</th>\n",
       "      <th>gap</th>\n",
       "      <td>-1.863969</td>\n",
       "    </tr>\n",
       "    <tr>\n",
       "      <th>nogap</th>\n",
       "      <td>1.878282</td>\n",
       "    </tr>\n",
       "    <tr>\n",
       "      <th rowspan=\"2\" valign=\"top\">basic_pp</th>\n",
       "      <th>gap</th>\n",
       "      <td>-2.024417</td>\n",
       "    </tr>\n",
       "    <tr>\n",
       "      <th>nogap</th>\n",
       "      <td>0.612587</td>\n",
       "    </tr>\n",
       "  </tbody>\n",
       "</table>\n",
       "</div>"
      ],
      "text/plain": [
       "wh                        whf\n",
       "test          gap            \n",
       "basic_subject gap   -3.725968\n",
       "              nogap  0.610327\n",
       "basic_object  gap   -1.863969\n",
       "              nogap  1.878282\n",
       "basic_pp      gap   -2.024417\n",
       "              nogap  0.612587"
      ]
     },
     "execution_count": 21,
     "metadata": {},
     "output_type": "execute_result"
    }
   ],
   "source": [
    "gpt2 = df_basic[df_basic['model'] == 'GPT2']\n",
    "gpt2.groupby(['test', 'gap']).agg({\"whf\": \"mean\"})"
   ]
  },
  {
   "cell_type": "code",
   "execution_count": 22,
   "id": "f9613f21",
   "metadata": {},
   "outputs": [
    {
     "data": {
      "text/html": [
       "<div>\n",
       "<style scoped>\n",
       "    .dataframe tbody tr th:only-of-type {\n",
       "        vertical-align: middle;\n",
       "    }\n",
       "\n",
       "    .dataframe tbody tr th {\n",
       "        vertical-align: top;\n",
       "    }\n",
       "\n",
       "    .dataframe thead th {\n",
       "        text-align: right;\n",
       "    }\n",
       "</style>\n",
       "<table border=\"1\" class=\"dataframe\">\n",
       "  <thead>\n",
       "    <tr style=\"text-align: right;\">\n",
       "      <th></th>\n",
       "      <th>wh</th>\n",
       "      <th>whf</th>\n",
       "    </tr>\n",
       "    <tr>\n",
       "      <th>test</th>\n",
       "      <th>gap</th>\n",
       "      <th></th>\n",
       "    </tr>\n",
       "  </thead>\n",
       "  <tbody>\n",
       "    <tr>\n",
       "      <th rowspan=\"2\" valign=\"top\">basic_subject</th>\n",
       "      <th>gap</th>\n",
       "      <td>2.699320</td>\n",
       "    </tr>\n",
       "    <tr>\n",
       "      <th>nogap</th>\n",
       "      <td>5.123085</td>\n",
       "    </tr>\n",
       "    <tr>\n",
       "      <th rowspan=\"2\" valign=\"top\">basic_object</th>\n",
       "      <th>gap</th>\n",
       "      <td>0.437001</td>\n",
       "    </tr>\n",
       "    <tr>\n",
       "      <th>nogap</th>\n",
       "      <td>5.390547</td>\n",
       "    </tr>\n",
       "    <tr>\n",
       "      <th rowspan=\"2\" valign=\"top\">basic_pp</th>\n",
       "      <th>gap</th>\n",
       "      <td>0.442867</td>\n",
       "    </tr>\n",
       "    <tr>\n",
       "      <th>nogap</th>\n",
       "      <td>3.572443</td>\n",
       "    </tr>\n",
       "  </tbody>\n",
       "</table>\n",
       "</div>"
      ],
      "text/plain": [
       "wh                        whf\n",
       "test          gap            \n",
       "basic_subject gap    2.699320\n",
       "              nogap  5.123085\n",
       "basic_object  gap    0.437001\n",
       "              nogap  5.390547\n",
       "basic_pp      gap    0.442867\n",
       "              nogap  3.572443"
      ]
     },
     "execution_count": 22,
     "metadata": {},
     "output_type": "execute_result"
    }
   ],
   "source": [
    "gpt2.groupby(['test', 'gap']).agg({\"whf\": \"max\"})"
   ]
  },
  {
   "cell_type": "code",
   "execution_count": 23,
   "id": "0715a2c8",
   "metadata": {},
   "outputs": [
    {
     "data": {
      "text/html": [
       "<div>\n",
       "<style scoped>\n",
       "    .dataframe tbody tr th:only-of-type {\n",
       "        vertical-align: middle;\n",
       "    }\n",
       "\n",
       "    .dataframe tbody tr th {\n",
       "        vertical-align: top;\n",
       "    }\n",
       "\n",
       "    .dataframe thead th {\n",
       "        text-align: right;\n",
       "    }\n",
       "</style>\n",
       "<table border=\"1\" class=\"dataframe\">\n",
       "  <thead>\n",
       "    <tr style=\"text-align: right;\">\n",
       "      <th></th>\n",
       "      <th>wh</th>\n",
       "      <th>whf</th>\n",
       "    </tr>\n",
       "    <tr>\n",
       "      <th>test</th>\n",
       "      <th>gap</th>\n",
       "      <th></th>\n",
       "    </tr>\n",
       "  </thead>\n",
       "  <tbody>\n",
       "    <tr>\n",
       "      <th rowspan=\"2\" valign=\"top\">basic_subject</th>\n",
       "      <th>gap</th>\n",
       "      <td>-8.893178</td>\n",
       "    </tr>\n",
       "    <tr>\n",
       "      <th>nogap</th>\n",
       "      <td>-5.010052</td>\n",
       "    </tr>\n",
       "    <tr>\n",
       "      <th rowspan=\"2\" valign=\"top\">basic_object</th>\n",
       "      <th>gap</th>\n",
       "      <td>-4.636126</td>\n",
       "    </tr>\n",
       "    <tr>\n",
       "      <th>nogap</th>\n",
       "      <td>0.047405</td>\n",
       "    </tr>\n",
       "    <tr>\n",
       "      <th rowspan=\"2\" valign=\"top\">basic_pp</th>\n",
       "      <th>gap</th>\n",
       "      <td>-5.113097</td>\n",
       "    </tr>\n",
       "    <tr>\n",
       "      <th>nogap</th>\n",
       "      <td>-0.921090</td>\n",
       "    </tr>\n",
       "  </tbody>\n",
       "</table>\n",
       "</div>"
      ],
      "text/plain": [
       "wh                        whf\n",
       "test          gap            \n",
       "basic_subject gap   -8.893178\n",
       "              nogap -5.010052\n",
       "basic_object  gap   -4.636126\n",
       "              nogap  0.047405\n",
       "basic_pp      gap   -5.113097\n",
       "              nogap -0.921090"
      ]
     },
     "execution_count": 23,
     "metadata": {},
     "output_type": "execute_result"
    }
   ],
   "source": [
    "gpt2.groupby(['test', 'gap']).agg({\"whf\": \"min\"})"
   ]
  },
  {
   "cell_type": "markdown",
   "id": "48587ad1",
   "metadata": {},
   "source": [
    "Comparison with our values"
   ]
  },
  {
   "cell_type": "code",
   "execution_count": 33,
   "id": "e5b09c89",
   "metadata": {},
   "outputs": [],
   "source": [
    "import json\n",
    "import os"
   ]
  },
  {
   "cell_type": "code",
   "execution_count": 174,
   "id": "cb2d45c5",
   "metadata": {},
   "outputs": [],
   "source": [
    "basic_results = [os.path.join(\"grammar_outputs\", \"wilcox_replication\", result)\n",
    "  for result in os.listdir(\"grammar_outputs/wilcox_replication/\") if any(condition in result for condition in [\"subject\", \"object\", \"pp\"])]\n",
    "basic_data = []\n",
    "for output in basic_results:\n",
    "    construction_data = json.load(open(output))\n",
    "    stim_id = 1\n",
    "    model_name = output.split(\".json\")[0][-4:]\n",
    "    construction_name = output.split(\".json\")[0].split(\"/\")[2].split(\"_\")[1]\n",
    "    for stim_set in construction_data:\n",
    "        base_info = {\"item\": stim_id, \"model\": model_name, 'test': construction_name}\n",
    "        base_info2 = base_info.copy()\n",
    "        base_info['wh_effect'] = stim_set['s_ab']['critical_surprisal'] - stim_set['s_xb']['critical_surprisal']\n",
    "        base_info['gap'] = 'gap'\n",
    "        basic_data.append(base_info)\n",
    "        base_info2['wh_effect'] = stim_set['s_ax']['critical_surprisal'] - stim_set['s_xx']['critical_surprisal']\n",
    "        base_info2['gap'] = 'nogap'\n",
    "        basic_data.append(base_info2)\n",
    "        stim_id +=1"
   ]
  },
  {
   "cell_type": "code",
   "execution_count": 175,
   "id": "9a4700b4",
   "metadata": {},
   "outputs": [
    {
     "data": {
      "text/html": [
       "<div>\n",
       "<style scoped>\n",
       "    .dataframe tbody tr th:only-of-type {\n",
       "        vertical-align: middle;\n",
       "    }\n",
       "\n",
       "    .dataframe tbody tr th {\n",
       "        vertical-align: top;\n",
       "    }\n",
       "\n",
       "    .dataframe thead th {\n",
       "        text-align: right;\n",
       "    }\n",
       "</style>\n",
       "<table border=\"1\" class=\"dataframe\">\n",
       "  <thead>\n",
       "    <tr style=\"text-align: right;\">\n",
       "      <th></th>\n",
       "      <th>model</th>\n",
       "      <th>test</th>\n",
       "      <th>gap</th>\n",
       "      <th>item</th>\n",
       "      <th>wh_effect</th>\n",
       "    </tr>\n",
       "  </thead>\n",
       "  <tbody>\n",
       "    <tr>\n",
       "      <th>0</th>\n",
       "      <td>gpt2</td>\n",
       "      <td>object</td>\n",
       "      <td>gap</td>\n",
       "      <td>25.5</td>\n",
       "      <td>-1.878210</td>\n",
       "    </tr>\n",
       "    <tr>\n",
       "      <th>1</th>\n",
       "      <td>gpt2</td>\n",
       "      <td>object</td>\n",
       "      <td>nogap</td>\n",
       "      <td>25.5</td>\n",
       "      <td>4.185254</td>\n",
       "    </tr>\n",
       "    <tr>\n",
       "      <th>2</th>\n",
       "      <td>gpt2</td>\n",
       "      <td>pp</td>\n",
       "      <td>gap</td>\n",
       "      <td>25.5</td>\n",
       "      <td>-2.628220</td>\n",
       "    </tr>\n",
       "    <tr>\n",
       "      <th>3</th>\n",
       "      <td>gpt2</td>\n",
       "      <td>pp</td>\n",
       "      <td>nogap</td>\n",
       "      <td>25.5</td>\n",
       "      <td>1.627942</td>\n",
       "    </tr>\n",
       "    <tr>\n",
       "      <th>4</th>\n",
       "      <td>gpt2</td>\n",
       "      <td>subject</td>\n",
       "      <td>gap</td>\n",
       "      <td>25.5</td>\n",
       "      <td>-3.608815</td>\n",
       "    </tr>\n",
       "    <tr>\n",
       "      <th>5</th>\n",
       "      <td>gpt2</td>\n",
       "      <td>subject</td>\n",
       "      <td>nogap</td>\n",
       "      <td>25.5</td>\n",
       "      <td>3.477370</td>\n",
       "    </tr>\n",
       "    <tr>\n",
       "      <th>6</th>\n",
       "      <td>grnn</td>\n",
       "      <td>object</td>\n",
       "      <td>gap</td>\n",
       "      <td>25.5</td>\n",
       "      <td>-0.389012</td>\n",
       "    </tr>\n",
       "    <tr>\n",
       "      <th>7</th>\n",
       "      <td>grnn</td>\n",
       "      <td>object</td>\n",
       "      <td>nogap</td>\n",
       "      <td>25.5</td>\n",
       "      <td>3.369370</td>\n",
       "    </tr>\n",
       "    <tr>\n",
       "      <th>8</th>\n",
       "      <td>grnn</td>\n",
       "      <td>pp</td>\n",
       "      <td>gap</td>\n",
       "      <td>25.5</td>\n",
       "      <td>-1.294981</td>\n",
       "    </tr>\n",
       "    <tr>\n",
       "      <th>9</th>\n",
       "      <td>grnn</td>\n",
       "      <td>pp</td>\n",
       "      <td>nogap</td>\n",
       "      <td>25.5</td>\n",
       "      <td>1.259664</td>\n",
       "    </tr>\n",
       "    <tr>\n",
       "      <th>10</th>\n",
       "      <td>grnn</td>\n",
       "      <td>subject</td>\n",
       "      <td>gap</td>\n",
       "      <td>25.0</td>\n",
       "      <td>0.390621</td>\n",
       "    </tr>\n",
       "    <tr>\n",
       "      <th>11</th>\n",
       "      <td>grnn</td>\n",
       "      <td>subject</td>\n",
       "      <td>nogap</td>\n",
       "      <td>25.0</td>\n",
       "      <td>-0.126533</td>\n",
       "    </tr>\n",
       "  </tbody>\n",
       "</table>\n",
       "</div>"
      ],
      "text/plain": [
       "   model     test    gap  item  wh_effect\n",
       "0   gpt2   object    gap  25.5  -1.878210\n",
       "1   gpt2   object  nogap  25.5   4.185254\n",
       "2   gpt2       pp    gap  25.5  -2.628220\n",
       "3   gpt2       pp  nogap  25.5   1.627942\n",
       "4   gpt2  subject    gap  25.5  -3.608815\n",
       "5   gpt2  subject  nogap  25.5   3.477370\n",
       "6   grnn   object    gap  25.5  -0.389012\n",
       "7   grnn   object  nogap  25.5   3.369370\n",
       "8   grnn       pp    gap  25.5  -1.294981\n",
       "9   grnn       pp  nogap  25.5   1.259664\n",
       "10  grnn  subject    gap  25.0   0.390621\n",
       "11  grnn  subject  nogap  25.0  -0.126533"
      ]
     },
     "execution_count": 175,
     "metadata": {},
     "output_type": "execute_result"
    }
   ],
   "source": [
    "replication_basic = pd.DataFrame(basic_data)\n",
    "avg = replication_basic.groupby(['model', 'test', 'gap']).agg(\"mean\")\n",
    "avg = avg.reset_index()\n",
    "avg"
   ]
  },
  {
   "cell_type": "code",
   "execution_count": 95,
   "id": "301a7454",
   "metadata": {},
   "outputs": [
    {
     "data": {
      "text/plain": [
       "<seaborn.axisgrid.FacetGrid at 0x135d671d0>"
      ]
     },
     "execution_count": 95,
     "metadata": {},
     "output_type": "execute_result"
    },
    {
     "data": {
      "image/png": "[encoded data removed]",
      "text/plain": [
       "<Figure size 900x300 with 3 Axes>"
      ]
     },
     "metadata": {},
     "output_type": "display_data"
    }
   ],
   "source": [
    "gpt2 = avg[avg['model'] == 'gpt2']\n",
    "g = sns.FacetGrid(gpt2, col=\"test\", hue=\"gap\")\n",
    "g.map_dataframe(plt.bar, x = 'gap', height= 'wh_effect')"
   ]
  },
  {
   "cell_type": "code",
   "execution_count": 176,
   "metadata": {},
   "outputs": [
    {
     "data": {
      "text/plain": [
       "<seaborn.axisgrid.FacetGrid at 0x143971bd0>"
      ]
     },
     "execution_count": 176,
     "metadata": {},
     "output_type": "execute_result"
    },
    {
     "data": {
      "image/png": "[encoded data removed]",
      "text/plain": [
       "<Figure size 900x300 with 3 Axes>"
      ]
     },
     "metadata": {},
     "output_type": "display_data"
    }
   ],
   "source": [
    "grnn = avg[avg['model'] == 'grnn']\n",
    "g = sns.FacetGrid(gpt2, col=\"test\", hue=\"gap\")\n",
    "g.map_dataframe(plt.bar, x = 'gap', height= 'wh_effect')"
   ]
  },
  {
   "cell_type": "code",
   "execution_count": 135,
   "id": "1863f878",
   "metadata": {},
   "outputs": [
    {
     "data": {
      "text/plain": [
       "0.9480799092336886"
      ]
     },
     "execution_count": 135,
     "metadata": {},
     "output_type": "execute_result"
    }
   ],
   "source": [
    "np.mean(replication_basic[replication_basic['model'] == 'gpt2']['wh_effect'].values - df_basic[df_basic['model'] == 'GPT2']['whf'].values)"
   ]
  },
  {
   "cell_type": "markdown",
   "id": "e203a8b9",
   "metadata": {},
   "source": [
    "Mean difference of surprisal values (GPT2)"
   ]
  },
  {
   "cell_type": "code",
   "execution_count": 124,
   "id": "77f192d5",
   "metadata": {},
   "outputs": [
    {
     "data": {
      "text/plain": [
       "0.9480799092336886"
      ]
     },
     "execution_count": 124,
     "metadata": {},
     "output_type": "execute_result"
    }
   ],
   "source": [
    "np.mean(replication_basic[replication_basic['model'] == 'gpt2']['wh_effect'].values\n",
    "         - df_basic[df_basic['model'] == 'GPT2']['whf'].values)"
   ]
  },
  {
   "cell_type": "code",
   "execution_count": 133,
   "id": "d710d50e",
   "metadata": {},
   "outputs": [
    {
     "data": {
      "text/html": [
       "<div>\n",
       "<style scoped>\n",
       "    .dataframe tbody tr th:only-of-type {\n",
       "        vertical-align: middle;\n",
       "    }\n",
       "\n",
       "    .dataframe tbody tr th {\n",
       "        vertical-align: top;\n",
       "    }\n",
       "\n",
       "    .dataframe thead th {\n",
       "        text-align: right;\n",
       "    }\n",
       "</style>\n",
       "<table border=\"1\" class=\"dataframe\">\n",
       "  <thead>\n",
       "    <tr style=\"text-align: right;\">\n",
       "      <th>wh</th>\n",
       "      <th>model</th>\n",
       "      <th>test</th>\n",
       "      <th>item</th>\n",
       "      <th>gap</th>\n",
       "      <th>whf</th>\n",
       "    </tr>\n",
       "  </thead>\n",
       "  <tbody>\n",
       "    <tr>\n",
       "      <th>0</th>\n",
       "      <td>GPT2</td>\n",
       "      <td>basic_subject</td>\n",
       "      <td>1.0</td>\n",
       "      <td>gap</td>\n",
       "      <td>-3.834650</td>\n",
       "    </tr>\n",
       "    <tr>\n",
       "      <th>1</th>\n",
       "      <td>GPT2</td>\n",
       "      <td>basic_subject</td>\n",
       "      <td>1.0</td>\n",
       "      <td>nogap</td>\n",
       "      <td>0.070066</td>\n",
       "    </tr>\n",
       "  </tbody>\n",
       "</table>\n",
       "</div>"
      ],
      "text/plain": [
       "wh model           test  item    gap       whf\n",
       "0   GPT2  basic_subject   1.0    gap -3.834650\n",
       "1   GPT2  basic_subject   1.0  nogap  0.070066"
      ]
     },
     "execution_count": 133,
     "metadata": {},
     "output_type": "execute_result"
    }
   ],
   "source": [
    "df_basic[df_basic['test'] == 'basic_subject'][:2]"
   ]
  },
  {
   "cell_type": "code",
   "execution_count": 140,
   "id": "6d900038",
   "metadata": {},
   "outputs": [
    {
     "data": {
      "text/html": [
       "<div>\n",
       "<style scoped>\n",
       "    .dataframe tbody tr th:only-of-type {\n",
       "        vertical-align: middle;\n",
       "    }\n",
       "\n",
       "    .dataframe tbody tr th {\n",
       "        vertical-align: top;\n",
       "    }\n",
       "\n",
       "    .dataframe thead th {\n",
       "        text-align: right;\n",
       "    }\n",
       "</style>\n",
       "<table border=\"1\" class=\"dataframe\">\n",
       "  <thead>\n",
       "    <tr style=\"text-align: right;\">\n",
       "      <th></th>\n",
       "      <th>item</th>\n",
       "      <th>model</th>\n",
       "      <th>test</th>\n",
       "      <th>wh_effect</th>\n",
       "      <th>gap</th>\n",
       "    </tr>\n",
       "  </thead>\n",
       "  <tbody>\n",
       "    <tr>\n",
       "      <th>198</th>\n",
       "      <td>1</td>\n",
       "      <td>gpt2</td>\n",
       "      <td>subject</td>\n",
       "      <td>-5.526525</td>\n",
       "      <td>gap</td>\n",
       "    </tr>\n",
       "    <tr>\n",
       "      <th>199</th>\n",
       "      <td>1</td>\n",
       "      <td>gpt2</td>\n",
       "      <td>subject</td>\n",
       "      <td>0.106689</td>\n",
       "      <td>nogap</td>\n",
       "    </tr>\n",
       "  </tbody>\n",
       "</table>\n",
       "</div>"
      ],
      "text/plain": [
       "     item model     test  wh_effect    gap\n",
       "198     1  gpt2  subject  -5.526525    gap\n",
       "199     1  gpt2  subject   0.106689  nogap"
      ]
     },
     "execution_count": 140,
     "metadata": {},
     "output_type": "execute_result"
    }
   ],
   "source": [
    "replication_basic[(replication_basic['test'] == 'subject') & (replication_basic['model'] == 'gpt2')][:2]"
   ]
  },
  {
   "cell_type": "code",
   "execution_count": 162,
   "id": "266188fd",
   "metadata": {},
   "outputs": [],
   "source": [
    "from surprisal import align_surprisal"
   ]
  },
  {
   "cell_type": "code",
   "execution_count": 170,
   "metadata": {},
   "outputs": [
    {
     "data": {
      "text/html": [
       "<div>\n",
       "<style scoped>\n",
       "    .dataframe tbody tr th:only-of-type {\n",
       "        vertical-align: middle;\n",
       "    }\n",
       "\n",
       "    .dataframe tbody tr th {\n",
       "        vertical-align: top;\n",
       "    }\n",
       "\n",
       "    .dataframe thead th {\n",
       "        text-align: right;\n",
       "    }\n",
       "</style>\n",
       "<table border=\"1\" class=\"dataframe\">\n",
       "  <thead>\n",
       "    <tr style=\"text-align: right;\">\n",
       "      <th></th>\n",
       "      <th>token</th>\n",
       "      <th>word_idx</th>\n",
       "      <th>test</th>\n",
       "      <th>item</th>\n",
       "      <th>condition</th>\n",
       "      <th>region</th>\n",
       "      <th>NGRAM</th>\n",
       "      <th>JRNN</th>\n",
       "      <th>GPT2</th>\n",
       "      <th>GRNN</th>\n",
       "      <th>GPT3</th>\n",
       "      <th>sent_index.y</th>\n",
       "    </tr>\n",
       "  </thead>\n",
       "  <tbody>\n",
       "    <tr>\n",
       "      <th>14658</th>\n",
       "      <td>grabbed</td>\n",
       "      <td>1</td>\n",
       "      <td>basic_subject</td>\n",
       "      <td>1.0</td>\n",
       "      <td>that_gap</td>\n",
       "      <td>verb</td>\n",
       "      <td>16.491387</td>\n",
       "      <td>19.199198</td>\n",
       "      <td>13.227647</td>\n",
       "      <td>18.517796</td>\n",
       "      <td>14.526399</td>\n",
       "      <td>7.0</td>\n",
       "    </tr>\n",
       "    <tr>\n",
       "      <th>14717</th>\n",
       "      <td>grabbed</td>\n",
       "      <td>3</td>\n",
       "      <td>basic_subject</td>\n",
       "      <td>1.0</td>\n",
       "      <td>that_nogap</td>\n",
       "      <td>verb</td>\n",
       "      <td>16.981642</td>\n",
       "      <td>13.383256</td>\n",
       "      <td>9.125727</td>\n",
       "      <td>16.727510</td>\n",
       "      <td>8.972041</td>\n",
       "      <td>9.0</td>\n",
       "    </tr>\n",
       "    <tr>\n",
       "      <th>18917</th>\n",
       "      <td>grabbed</td>\n",
       "      <td>1</td>\n",
       "      <td>basic_subject</td>\n",
       "      <td>1.0</td>\n",
       "      <td>what_gap</td>\n",
       "      <td>verb</td>\n",
       "      <td>16.491387</td>\n",
       "      <td>12.786845</td>\n",
       "      <td>9.392996</td>\n",
       "      <td>16.046219</td>\n",
       "      <td>8.688656</td>\n",
       "      <td>7.0</td>\n",
       "    </tr>\n",
       "    <tr>\n",
       "      <th>18955</th>\n",
       "      <td>grabbed</td>\n",
       "      <td>2</td>\n",
       "      <td>basic_subject</td>\n",
       "      <td>1.0</td>\n",
       "      <td>what_nogap</td>\n",
       "      <td>verb</td>\n",
       "      <td>16.981642</td>\n",
       "      <td>13.760231</td>\n",
       "      <td>10.180616</td>\n",
       "      <td>17.875113</td>\n",
       "      <td>9.012871</td>\n",
       "      <td>9.0</td>\n",
       "    </tr>\n",
       "  </tbody>\n",
       "</table>\n",
       "</div>"
      ],
      "text/plain": [
       "         token  word_idx           test  item   condition region      NGRAM  \\\n",
       "14658  grabbed         1  basic_subject   1.0    that_gap   verb  16.491387   \n",
       "14717  grabbed         3  basic_subject   1.0  that_nogap   verb  16.981642   \n",
       "18917  grabbed         1  basic_subject   1.0    what_gap   verb  16.491387   \n",
       "18955  grabbed         2  basic_subject   1.0  what_nogap   verb  16.981642   \n",
       "\n",
       "            JRNN       GPT2       GRNN       GPT3  sent_index.y  \n",
       "14658  19.199198  13.227647  18.517796  14.526399           7.0  \n",
       "14717  13.383256   9.125727  16.727510   8.972041           9.0  \n",
       "18917  12.786845   9.392996  16.046219   8.688656           7.0  \n",
       "18955  13.760231  10.180616  17.875113   9.012871           9.0  "
      ]
     },
     "execution_count": 170,
     "metadata": {},
     "output_type": "execute_result"
    }
   ],
   "source": [
    "wilcox_results[(wilcox_results['test'] == 'basic_subject') & (wilcox_results['token'] == 'grabbed')]"
   ]
  },
  {
   "cell_type": "code",
   "execution_count": 173,
   "metadata": {},
   "outputs": [
    {
     "data": {
      "text/html": [
       "<div>\n",
       "<style scoped>\n",
       "    .dataframe tbody tr th:only-of-type {\n",
       "        vertical-align: middle;\n",
       "    }\n",
       "\n",
       "    .dataframe tbody tr th {\n",
       "        vertical-align: top;\n",
       "    }\n",
       "\n",
       "    .dataframe thead th {\n",
       "        text-align: right;\n",
       "    }\n",
       "</style>\n",
       "<table border=\"1\" class=\"dataframe\">\n",
       "  <thead>\n",
       "    <tr style=\"text-align: right;\">\n",
       "      <th></th>\n",
       "      <th>item</th>\n",
       "      <th>model</th>\n",
       "      <th>test</th>\n",
       "      <th>wh_effect</th>\n",
       "      <th>gap</th>\n",
       "    </tr>\n",
       "  </thead>\n",
       "  <tbody>\n",
       "    <tr>\n",
       "      <th>100</th>\n",
       "      <td>1</td>\n",
       "      <td>grnn</td>\n",
       "      <td>subject</td>\n",
       "      <td>0.882647</td>\n",
       "      <td>gap</td>\n",
       "    </tr>\n",
       "    <tr>\n",
       "      <th>101</th>\n",
       "      <td>1</td>\n",
       "      <td>grnn</td>\n",
       "      <td>subject</td>\n",
       "      <td>0.413425</td>\n",
       "      <td>nogap</td>\n",
       "    </tr>\n",
       "    <tr>\n",
       "      <th>198</th>\n",
       "      <td>1</td>\n",
       "      <td>gpt2</td>\n",
       "      <td>subject</td>\n",
       "      <td>-5.526525</td>\n",
       "      <td>gap</td>\n",
       "    </tr>\n",
       "    <tr>\n",
       "      <th>199</th>\n",
       "      <td>1</td>\n",
       "      <td>gpt2</td>\n",
       "      <td>subject</td>\n",
       "      <td>0.106689</td>\n",
       "      <td>nogap</td>\n",
       "    </tr>\n",
       "  </tbody>\n",
       "</table>\n",
       "</div>"
      ],
      "text/plain": [
       "     item model     test  wh_effect    gap\n",
       "100     1  grnn  subject   0.882647    gap\n",
       "101     1  grnn  subject   0.413425  nogap\n",
       "198     1  gpt2  subject  -5.526525    gap\n",
       "199     1  gpt2  subject   0.106689  nogap"
      ]
     },
     "execution_count": 173,
     "metadata": {},
     "output_type": "execute_result"
    }
   ],
   "source": [
    "replication_basic[(replication_basic['item'] == 1) & (replication_basic['test'] == 'subject')]"
   ]
  },
  {
   "cell_type": "code",
   "execution_count": 141,
   "id": "3e8ccad0",
   "metadata": {},
   "outputs": [
    {
     "data": {
      "text/html": [
       "<div>\n",
       "<style scoped>\n",
       "    .dataframe tbody tr th:only-of-type {\n",
       "        vertical-align: middle;\n",
       "    }\n",
       "\n",
       "    .dataframe tbody tr th {\n",
       "        vertical-align: top;\n",
       "    }\n",
       "\n",
       "    .dataframe thead th {\n",
       "        text-align: right;\n",
       "    }\n",
       "</style>\n",
       "<table border=\"1\" class=\"dataframe\">\n",
       "  <thead>\n",
       "    <tr style=\"text-align: right;\">\n",
       "      <th></th>\n",
       "      <th>item</th>\n",
       "      <th>condition</th>\n",
       "      <th>prefix</th>\n",
       "      <th>comp</th>\n",
       "      <th>apposotive</th>\n",
       "      <th>np1</th>\n",
       "      <th>verb</th>\n",
       "      <th>np2</th>\n",
       "      <th>prep</th>\n",
       "      <th>np3</th>\n",
       "      <th>end</th>\n",
       "    </tr>\n",
       "  </thead>\n",
       "  <tbody>\n",
       "    <tr>\n",
       "      <th>0</th>\n",
       "      <td>1</td>\n",
       "      <td>what_nogap</td>\n",
       "      <td>I know</td>\n",
       "      <td>who</td>\n",
       "      <td>with gusto</td>\n",
       "      <td>our uncle</td>\n",
       "      <td>grabbed</td>\n",
       "      <td>the food</td>\n",
       "      <td>in front of</td>\n",
       "      <td>the guests</td>\n",
       "      <td>at the holiday party</td>\n",
       "    </tr>\n",
       "    <tr>\n",
       "      <th>1</th>\n",
       "      <td>1</td>\n",
       "      <td>that_nogap</td>\n",
       "      <td>I know</td>\n",
       "      <td>that</td>\n",
       "      <td>with gusto</td>\n",
       "      <td>our uncle</td>\n",
       "      <td>grabbed</td>\n",
       "      <td>the food</td>\n",
       "      <td>in front of</td>\n",
       "      <td>the guests</td>\n",
       "      <td>at the holiday party</td>\n",
       "    </tr>\n",
       "    <tr>\n",
       "      <th>2</th>\n",
       "      <td>1</td>\n",
       "      <td>what_gap</td>\n",
       "      <td>I know</td>\n",
       "      <td>who</td>\n",
       "      <td>with gusto</td>\n",
       "      <td>NaN</td>\n",
       "      <td>grabbed</td>\n",
       "      <td>the food</td>\n",
       "      <td>in front of</td>\n",
       "      <td>the guests</td>\n",
       "      <td>at the holiday party</td>\n",
       "    </tr>\n",
       "    <tr>\n",
       "      <th>3</th>\n",
       "      <td>1</td>\n",
       "      <td>that_gap</td>\n",
       "      <td>I know</td>\n",
       "      <td>that</td>\n",
       "      <td>with gusto</td>\n",
       "      <td>NaN</td>\n",
       "      <td>grabbed</td>\n",
       "      <td>the food</td>\n",
       "      <td>in front of</td>\n",
       "      <td>the guests</td>\n",
       "      <td>at the holiday party</td>\n",
       "    </tr>\n",
       "  </tbody>\n",
       "</table>\n",
       "</div>"
      ],
      "text/plain": [
       "   item   condition  prefix  comp  apposotive        np1     verb       np2  \\\n",
       "0     1  what_nogap  I know   who  with gusto  our uncle  grabbed  the food   \n",
       "1     1  that_nogap  I know  that  with gusto  our uncle  grabbed  the food   \n",
       "2     1    what_gap  I know   who  with gusto        NaN  grabbed  the food   \n",
       "3     1    that_gap  I know  that  with gusto        NaN  grabbed  the food   \n",
       "\n",
       "          prep         np3                   end  \n",
       "0  in front of  the guests  at the holiday party  \n",
       "1  in front of  the guests  at the holiday party  \n",
       "2  in front of  the guests  at the holiday party  \n",
       "3  in front of  the guests  at the holiday party  "
      ]
     },
     "execution_count": 141,
     "metadata": {},
     "output_type": "execute_result"
    }
   ],
   "source": [
    "stims = pd.read_csv(\"data/wilcox_csv/basic_subject.csv\")\n",
    "stims[:4]"
   ]
  },
  {
   "cell_type": "code",
   "execution_count": 152,
   "id": "846c5507",
   "metadata": {},
   "outputs": [],
   "source": [
    "s_ab = \"I know who with gusto our uncle grabbed the food in front of the guests at the holiday party\"\n",
    "s_ax = \"I know who with gusto our uncle grabbed the food in front of the guests at the holiday party\"\n",
    "s_xb = \"I know that with gusto grabbed the food in front of the guests at the holiday party\"\n",
    "s_xx = \"I know who with gusto grabbed the food in front of the guests at the holiday party\""
   ]
  },
  {
   "cell_type": "code",
   "execution_count": 164,
   "id": "86702bd7",
   "metadata": {},
   "outputs": [
    {
     "data": {
      "text/plain": [
       "[14.797761917114258]"
      ]
     },
     "execution_count": 164,
     "metadata": {},
     "output_type": "execute_result"
    }
   ],
   "source": [
    "[result[1] for result in gpt2_surprisal(s_ab) if result[0] == 'grabbed']"
   ]
  },
  {
   "cell_type": "code",
   "execution_count": 165,
   "metadata": {},
   "outputs": [
    {
     "data": {
      "text/plain": [
       "[19.175134658813477]"
      ]
     },
     "execution_count": 165,
     "metadata": {},
     "output_type": "execute_result"
    }
   ],
   "source": [
    "[result[1] for result in gpt2_surprisal(s_xb) if result[0] == 'grabbed']"
   ]
  }
 ],
 "metadata": {
  "kernelspec": {
   "display_name": "Python 3 (ipykernel)",
   "language": "python",
   "name": "python3"
  },
  "language_info": {
   "codemirror_mode": {
    "name": "ipython",
    "version": 3
   },
   "file_extension": ".py",
   "mimetype": "text/x-python",
   "name": "python",
   "nbconvert_exporter": "python",
   "pygments_lexer": "ipython3",
   "version": "3.11.5"
  }
 },
 "nbformat": 4,
 "nbformat_minor": 5
}
