{
 "cells": [
  {
   "cell_type": "code",
   "execution_count": 23,
   "metadata": {},
   "outputs": [],
   "source": [
    "import os\n",
    "import pandas as pd\n",
    "import numpy as np\n",
    "import seaborn as sns\n",
    "import matplotlib.pyplot as plt\n",
    "\n",
    "sns.set_style(\"darkgrid\")\n",
    "sns.set_palette('colorblind')"
   ]
  },
  {
   "cell_type": "code",
   "execution_count": 24,
   "metadata": {},
   "outputs": [],
   "source": [
    "from generate_corpora import corpus_from_json\n",
    "from analysis import *"
   ]
  },
  {
   "cell_type": "code",
   "execution_count": 25,
   "metadata": {},
   "outputs": [],
   "source": [
    "models = ['grnn', 'gpt2']\n",
    "constructions = ['cleft', 'intro_topic', 'nointro_topic', 'tough']\n",
    "all_island_effects = []\n",
    "all_island_surprisals = []\n",
    "for model in models:\n",
    "    for construction in constructions:\n",
    "        control_filename =  os.path.join(\"grammar_outputs\", \"experiment1\", model, f\"{construction}_grammar_c.json\")\n",
    "        island_filename =  os.path.join(\"grammar_outputs\", \"experiment1\", model, f\"{construction}_grammar_i.json\")\n",
    "        control_tuples = corpus_from_json(control_filename, is_tuples = True)\n",
    "        island_tuples = corpus_from_json(island_filename, is_tuples = True)\n",
    "        all_island_effects += island_effects_for_model(model, control_tuples, island_tuples, construction)\n",
    "        all_island_surprisals += island_surprisals(\"control\", control_tuples, model, construction)\n",
    "        all_island_surprisals += island_surprisals(\"island\", island_tuples, model, construction)\n",
    "\n",
    "\n",
    "# wilcox et al analyses are in other notebook\n",
    "all_island_surprisals = pd.DataFrame(all_island_surprisals)\n",
    "effects = pd.DataFrame(all_island_effects)"
   ]
  },
  {
   "cell_type": "markdown",
   "metadata": {},
   "source": [
    "Error analysis (see below graphs for how Tough-mvt has very high wh effects)"
   ]
  },
  {
   "cell_type": "code",
   "execution_count": 41,
   "metadata": {},
   "outputs": [],
   "source": [
    "tough_grnn_nogap_ctrl = effects[(effects['model'] == 'grnn') & (effects['construction'] == 'tough') &\n",
    "                (effects['gap'] == \"nogap\") & (effects['condition'] == 'control')].sort_values(\"wh_effect\", ascending = False)\n",
    "tough_grnn_nogap_ctrl.to_csv(\"grammar_outputs/experiment1/debug_grnn_tough_control_nogap.csv\", index = False)"
   ]
  },
  {
   "cell_type": "code",
   "execution_count": 40,
   "metadata": {},
   "outputs": [
    {
     "data": {
      "text/html": [
       "<div>\n",
       "<style scoped>\n",
       "    .dataframe tbody tr th:only-of-type {\n",
       "        vertical-align: middle;\n",
       "    }\n",
       "\n",
       "    .dataframe tbody tr th {\n",
       "        vertical-align: top;\n",
       "    }\n",
       "\n",
       "    .dataframe thead th {\n",
       "        text-align: right;\n",
       "    }\n",
       "</style>\n",
       "<table border=\"1\" class=\"dataframe\">\n",
       "  <thead>\n",
       "    <tr style=\"text-align: right;\">\n",
       "      <th></th>\n",
       "      <th>model</th>\n",
       "      <th>construction</th>\n",
       "      <th>condition</th>\n",
       "      <th>gap</th>\n",
       "      <th>gram</th>\n",
       "      <th>ungram</th>\n",
       "      <th>wh_effect</th>\n",
       "    </tr>\n",
       "  </thead>\n",
       "  <tbody>\n",
       "    <tr>\n",
       "      <th>22803</th>\n",
       "      <td>grnn</td>\n",
       "      <td>tough</td>\n",
       "      <td>control</td>\n",
       "      <td>nogap</td>\n",
       "      <td>it is difficult to find our keys in the park</td>\n",
       "      <td>this snack is difficult to find our keys in th...</td>\n",
       "      <td>11.842591</td>\n",
       "    </tr>\n",
       "    <tr>\n",
       "      <th>22801</th>\n",
       "      <td>grnn</td>\n",
       "      <td>tough</td>\n",
       "      <td>control</td>\n",
       "      <td>nogap</td>\n",
       "      <td>it is difficult to find our keys with a friend</td>\n",
       "      <td>this snack is difficult to find our keys with ...</td>\n",
       "      <td>11.842591</td>\n",
       "    </tr>\n",
       "    <tr>\n",
       "      <th>22805</th>\n",
       "      <td>grnn</td>\n",
       "      <td>tough</td>\n",
       "      <td>control</td>\n",
       "      <td>nogap</td>\n",
       "      <td>it is difficult to find our keys on Saturdays</td>\n",
       "      <td>this snack is difficult to find our keys on Sa...</td>\n",
       "      <td>11.842591</td>\n",
       "    </tr>\n",
       "    <tr>\n",
       "      <th>23155</th>\n",
       "      <td>grnn</td>\n",
       "      <td>tough</td>\n",
       "      <td>control</td>\n",
       "      <td>nogap</td>\n",
       "      <td>it is difficult to lose your hat with a friend</td>\n",
       "      <td>her book is difficult to lose your hat with a ...</td>\n",
       "      <td>10.855704</td>\n",
       "    </tr>\n",
       "    <tr>\n",
       "      <th>23157</th>\n",
       "      <td>grnn</td>\n",
       "      <td>tough</td>\n",
       "      <td>control</td>\n",
       "      <td>nogap</td>\n",
       "      <td>it is difficult to lose your hat in the park</td>\n",
       "      <td>her book is difficult to lose your hat in the ...</td>\n",
       "      <td>10.855704</td>\n",
       "    </tr>\n",
       "  </tbody>\n",
       "</table>\n",
       "</div>"
      ],
      "text/plain": [
       "      model construction condition    gap  \\\n",
       "22803  grnn        tough   control  nogap   \n",
       "22801  grnn        tough   control  nogap   \n",
       "22805  grnn        tough   control  nogap   \n",
       "23155  grnn        tough   control  nogap   \n",
       "23157  grnn        tough   control  nogap   \n",
       "\n",
       "                                                 gram  \\\n",
       "22803    it is difficult to find our keys in the park   \n",
       "22801  it is difficult to find our keys with a friend   \n",
       "22805   it is difficult to find our keys on Saturdays   \n",
       "23155  it is difficult to lose your hat with a friend   \n",
       "23157    it is difficult to lose your hat in the park   \n",
       "\n",
       "                                                  ungram  wh_effect  \n",
       "22803  this snack is difficult to find our keys in th...  11.842591  \n",
       "22801  this snack is difficult to find our keys with ...  11.842591  \n",
       "22805  this snack is difficult to find our keys on Sa...  11.842591  \n",
       "23155  her book is difficult to lose your hat with a ...  10.855704  \n",
       "23157  her book is difficult to lose your hat in the ...  10.855704  "
      ]
     },
     "execution_count": 40,
     "metadata": {},
     "output_type": "execute_result"
    }
   ],
   "source": [
    "tough_grnn_nogap_ctrl.head()"
   ]
  },
  {
   "cell_type": "code",
   "execution_count": 37,
   "metadata": {},
   "outputs": [
    {
     "name": "stderr",
     "output_type": "stream",
     "text": [
      "/var/folders/23/7hcv_qtd60j5mx97z8mfdjgh0000gn/T/ipykernel_20506/965314564.py:1: UserWarning: \n",
      "\n",
      "`distplot` is a deprecated function and will be removed in seaborn v0.14.0.\n",
      "\n",
      "Please adapt your code to use either `displot` (a figure-level function with\n",
      "similar flexibility) or `histplot` (an axes-level function for histograms).\n",
      "\n",
      "For a guide to updating your code to use the new functions, please see\n",
      "https://gist.github.com/mwaskom/de44147ed2974457ad6372750bbe5751\n",
      "\n",
      "  sns.distplot(tough_grnn_nogap_ctrl['wh_effect'])\n"
     ]
    },
    {
     "data": {
      "text/plain": [
       "<Axes: xlabel='wh_effect', ylabel='Density'>"
      ]
     },
     "execution_count": 37,
     "metadata": {},
     "output_type": "execute_result"
    },
    {
     "data": {
      "image/png": "[encoded data removed]",
      "text/plain": [
       "<Figure size 640x480 with 1 Axes>"
      ]
     },
     "metadata": {},
     "output_type": "display_data"
    }
   ],
   "source": [
    "sns.distplot(tough_grnn_nogap_ctrl['wh_effect'])"
   ]
  },
  {
   "cell_type": "code",
   "execution_count": 28,
   "metadata": {},
   "outputs": [],
   "source": [
    "from surprisal import grnn_surprisal"
   ]
  },
  {
   "cell_type": "code",
   "execution_count": 19,
   "metadata": {},
   "outputs": [
    {
     "data": {
      "text/plain": [
       "<Axes: >"
      ]
     },
     "execution_count": 19,
     "metadata": {},
     "output_type": "execute_result"
    },
    {
     "data": {
      "image/png": "[encoded data removed]",
      "text/plain": [
       "<Figure size 640x480 with 1 Axes>"
      ]
     },
     "metadata": {},
     "output_type": "display_data"
    }
   ],
   "source": [
    "grnn_values = grnn_surprisal(\"It is difficult to see her keys in the park\")\n",
    "word = [result[0] for result in grnn_values]\n",
    "surprisal = [result[1] for result in grnn_values]\n",
    "sns.lineplot(x = word, y = surprisal)"
   ]
  },
  {
   "cell_type": "code",
   "execution_count": 22,
   "metadata": {},
   "outputs": [
    {
     "data": {
      "text/plain": [
       "<Axes: >"
      ]
     },
     "execution_count": 22,
     "metadata": {},
     "output_type": "execute_result"
    },
    {
     "data": {
      "image/png": "[encoded data removed]",
      "text/plain": [
       "<Figure size 640x480 with 1 Axes>"
      ]
     },
     "metadata": {},
     "output_type": "display_data"
    }
   ],
   "source": [
    "grnn_values = grnn_surprisal(\"Obviously, Mary saw her keys yesterday\")\n",
    "word = [result[0] for result in grnn_values]\n",
    "surprisal = [result[1] for result in grnn_values]\n",
    "sns.lineplot(x = word, y = surprisal)"
   ]
  },
  {
   "cell_type": "code",
   "execution_count": 20,
   "metadata": {},
   "outputs": [
    {
     "data": {
      "text/plain": [
       "[('<eos>', 24.22831597806627),\n",
       " ('It', 11.4719733948502),\n",
       " ('is', 1.6158241281024235),\n",
       " ('difficult', 7.164327378342451),\n",
       " ('to', 0.1783828024831015),\n",
       " ('see', 5.110744802109265),\n",
       " ('her', 9.50845847683917),\n",
       " ('keys', 15.597074961940356),\n",
       " ('in', 3.7663509168698623),\n",
       " ('the', 1.8010463473939529),\n",
       " ('park', 9.62793000887934)]"
      ]
     },
     "execution_count": 20,
     "metadata": {},
     "output_type": "execute_result"
    }
   ],
   "source": [
    "grnn_values"
   ]
  },
  {
   "cell_type": "code",
   "execution_count": 14,
   "metadata": {},
   "outputs": [
    {
     "data": {
      "text/plain": [
       "[('<eos>', 24.35665355972372),\n",
       " ('It', 11.4719733948502),\n",
       " ('is', 1.6158241281024235),\n",
       " ('impossible', 7.680033179358462),\n",
       " ('to', 0.3774093919777008),\n",
       " ('finish', 10.250701889363484),\n",
       " ('these', 7.192130093680932),\n",
       " ('books', 7.033652896425078),\n",
       " ('in', 3.2271426547175435),\n",
       " ('a', 2.612144390052398),\n",
       " ('day', 9.181552478217936)]"
      ]
     },
     "execution_count": 14,
     "metadata": {},
     "output_type": "execute_result"
    }
   ],
   "source": [
    "grnn_surprisal(\"It is impossible to finish these books in a day\")"
   ]
  },
  {
   "cell_type": "code",
   "execution_count": 13,
   "metadata": {},
   "outputs": [
    {
     "data": {
      "text/plain": [
       "[('<eos>', 25.611037228946355),\n",
       " ('These', 13.519605715328836),\n",
       " ('books', 9.267421352001927),\n",
       " ('are', 2.569625635227539),\n",
       " ('impossible', 12.774792882000632),\n",
       " ('to', 0.7806707000851464),\n",
       " ('finish', 11.310280122023213),\n",
       " ('these', 11.058323474717389),\n",
       " ('books', 4.932283220823153),\n",
       " ('in', 4.5435257256109205),\n",
       " ('a', 3.2695841893321655),\n",
       " ('day', 9.778092188931279)]"
      ]
     },
     "execution_count": 13,
     "metadata": {},
     "output_type": "execute_result"
    }
   ],
   "source": [
    "grnn_surprisal(\"These books are impossible to finish these books in a day\")"
   ]
  },
  {
   "cell_type": "markdown",
   "metadata": {},
   "source": [
    "Potential issue w materials: comparing w Ozaki et al - the same item should be moved earlier in the sentence"
   ]
  },
  {
   "cell_type": "code",
   "execution_count": 4,
   "metadata": {},
   "outputs": [
    {
     "data": {
      "text/plain": [
       "island     49572\n",
       "control     5508\n",
       "Name: condition, dtype: int64"
      ]
     },
     "execution_count": 4,
     "metadata": {},
     "output_type": "execute_result"
    }
   ],
   "source": [
    "pd.DataFrame(all_island_effects)['condition'].value_counts()"
   ]
  },
  {
   "cell_type": "code",
   "execution_count": 29,
   "metadata": {},
   "outputs": [],
   "source": [
    "grnn_cnp_control = corpus_from_json(\"grammar_outputs/wilcox_replication/island_cnp_obj_grnn.json\", is_tuples = True)\n",
    "grnn_cnp_island = corpus_from_json(\"grammar_outputs/wilcox_replication/island_cnp_that_grnn.json\", is_tuples = True)\n",
    "gpt2_cnp_control = corpus_from_json(\"grammar_outputs/wilcox_replication/island_cnp_obj_gpt2.json\", is_tuples = True)\n",
    "gpt2_cnp_island = corpus_from_json(\"grammar_outputs/wilcox_replication/island_cnp_that_gpt2.json\", is_tuples = True)\n",
    "grnn_cnp_island_effects = island_effects_for_model(\"grnn\", grnn_cnp_control, grnn_cnp_island, \"wh_movement\")\n",
    "gpt2_cnp_island_effects = island_effects_for_model(\"gpt2\", gpt2_cnp_control, gpt2_cnp_island, \"wh_movement\")\n"
   ]
  },
  {
   "cell_type": "code",
   "execution_count": 30,
   "metadata": {},
   "outputs": [],
   "source": [
    "construction_map = {\n",
    "    \"wh_movement\": \"Wh-Movement\",\n",
    "    \"cleft\": \"Clefting\",\n",
    "    \"intro_topic\": \"Topicalization with \\n Intro\",\n",
    "    \"nointro_topic\": \"Topicalization without \\n Intro\",\n",
    "    \"tough\": \"Tough Movement\"\n",
    "}\n",
    "island_effects = pd.DataFrame(grnn_cnp_island_effects + gpt2_cnp_island_effects + all_island_effects)\n",
    "\n",
    "island_effects[\"construction\"] = island_effects['construction'].apply(lambda const: construction_map[const])\n"
   ]
  },
  {
   "cell_type": "code",
   "execution_count": 31,
   "metadata": {},
   "outputs": [
    {
     "data": {
      "text/html": [
       "<div>\n",
       "<style scoped>\n",
       "    .dataframe tbody tr th:only-of-type {\n",
       "        vertical-align: middle;\n",
       "    }\n",
       "\n",
       "    .dataframe tbody tr th {\n",
       "        vertical-align: top;\n",
       "    }\n",
       "\n",
       "    .dataframe thead th {\n",
       "        text-align: right;\n",
       "    }\n",
       "</style>\n",
       "<table border=\"1\" class=\"dataframe\">\n",
       "  <thead>\n",
       "    <tr style=\"text-align: right;\">\n",
       "      <th></th>\n",
       "      <th>model</th>\n",
       "      <th>construction</th>\n",
       "      <th>condition</th>\n",
       "      <th>gap</th>\n",
       "      <th>gram</th>\n",
       "      <th>ungram</th>\n",
       "      <th>wh_effect</th>\n",
       "    </tr>\n",
       "  </thead>\n",
       "  <tbody>\n",
       "  </tbody>\n",
       "</table>\n",
       "</div>"
      ],
      "text/plain": [
       "Empty DataFrame\n",
       "Columns: [model, construction, condition, gap, gram, ungram, wh_effect]\n",
       "Index: []"
      ]
     },
     "execution_count": 31,
     "metadata": {},
     "output_type": "execute_result"
    }
   ],
   "source": [
    "island_effects[(island_effects['model'] == 'grnn') & (island_effects['construction'] == 'Tough Movement') &\n",
    "                (island_effects['gap'] == \"-gap\") & (island_effects['condition'] == 'control')].sort_values(\"wh_effect\")"
   ]
  },
  {
   "cell_type": "code",
   "execution_count": 32,
   "metadata": {},
   "outputs": [
    {
     "data": {
      "text/plain": [
       "Text(0.5, 1.05, 'GPT2 Filler Effects')"
      ]
     },
     "execution_count": 32,
     "metadata": {},
     "output_type": "execute_result"
    },
    {
     "data": {
      "text/plain": [
       "<Figure size 4000x2200 with 0 Axes>"
      ]
     },
     "metadata": {},
     "output_type": "display_data"
    },
    {
     "data": {
      "image/png": "[encoded data removed]",
      "text/plain": [
       "<Figure size 838.625x500 with 5 Axes>"
      ]
     },
     "metadata": {},
     "output_type": "display_data"
    }
   ],
   "source": [
    "gpt2 = island_effects[island_effects['model'] == 'gpt2']\n",
    "plt.figure(figsize=(40, 22))\n",
    "g = sns.catplot(x=\"condition\", y=\"wh_effect\", hue=\"gap\", data=gpt2, kind=\"bar\", col = \"construction\",\n",
    "            estimator=\"mean\", aspect = 0.3)\n",
    "g.set_titles(template='{col_name}')\n",
    "g.set_axis_labels(\"\", \"Filler Effect\")\n",
    "g.legend.set_title(\"\")\n",
    "plt.suptitle(\"GPT2 Filler Effects\", y = 1.05)\n",
    "#plt.savefig(\"figures/gpt2_expt1.png\")"
   ]
  },
  {
   "cell_type": "code",
   "execution_count": 33,
   "metadata": {},
   "outputs": [
    {
     "data": {
      "text/plain": [
       "<Figure size 2400x1500 with 0 Axes>"
      ]
     },
     "metadata": {},
     "output_type": "display_data"
    },
    {
     "data": {
      "image/png": "[encoded data removed]",
      "text/plain": [
       "<Figure size 838.625x500 with 5 Axes>"
      ]
     },
     "metadata": {},
     "output_type": "display_data"
    }
   ],
   "source": [
    "grnn = island_effects[island_effects['model'] == 'grnn']\n",
    "plt.figure(figsize=(24, 15))\n",
    "g = sns.catplot(x=\"condition\", y=\"wh_effect\", hue=\"gap\", data=grnn, kind=\"bar\", col = \"construction\",\n",
    "            estimator=\"mean\", aspect = 0.3)\n",
    "g.set_titles(template='{col_name}')\n",
    "g.set_axis_labels(\"\", \"Filler Effect\")\n",
    "g.legend.set_title(\"\")\n",
    "plt.suptitle(\"GRNN Filler Effects\", y = 1.05)\n",
    "plt.savefig(\"figures/grnn_expt1.png\")"
   ]
  },
  {
   "cell_type": "code",
   "execution_count": 87,
   "metadata": {},
   "outputs": [
    {
     "name": "stdout",
     "output_type": "stream",
     "text": [
      "Linear mixed model fit by REML [’lmerMod’]\n",
      "Formula: surprisal~wh*gap*island+(gap||item)\n",
      "\n",
      "Family: gaussian\t Inference: parametric\n",
      "\n",
      "Number of observations: 19440\t Groups: {'item': 4374.0}\n",
      "\n",
      "Log-likelihood: -44616.895 \t AIC: 89255.791\n",
      "\n",
      "Random effects:\n",
      "\n",
      "                 Name     Var    Std\n",
      "item      (Intercept)   5.400  2.324\n",
      "item.1            gap  11.249  3.354\n",
      "Residual                2.103  1.450\n",
      "\n",
      "No random effect correlations specified\n",
      "\n",
      "Fixed effects:\n",
      "\n",
      "Linear mixed model fit by REML [’lmerMod’]\n",
      "Formula: surprisal~wh*gap*island+(gap||item)\n",
      "\n",
      "Family: gaussian\t Inference: parametric\n",
      "\n",
      "Number of observations: 19440\t Groups: {'item': 4374.0}\n",
      "\n",
      "Log-likelihood: -44616.895 \t AIC: 89255.791\n",
      "\n",
      "Random effects:\n",
      "\n",
      "                 Name     Var    Std\n",
      "item      (Intercept)   5.400  2.324\n",
      "item.1            gap  11.249  3.354\n",
      "Residual                2.103  1.450\n",
      "\n",
      "No random effect correlations specified\n",
      "\n",
      "Fixed effects:\n",
      "\n",
      "Linear mixed model fit by REML [’lmerMod’]\n",
      "Formula: surprisal~wh*gap*island+(gap||item)\n",
      "\n",
      "Family: gaussian\t Inference: parametric\n",
      "\n",
      "Number of observations: 19440\t Groups: {'item': 4374.0}\n",
      "\n",
      "Log-likelihood: -42642.519 \t AIC: 85307.038\n",
      "\n",
      "Random effects:\n",
      "\n",
      "                 Name     Var    Std\n",
      "item      (Intercept)   7.291  2.700\n",
      "item.1            gap  14.375  3.791\n",
      "Residual                1.244  1.115\n",
      "\n",
      "No random effect correlations specified\n",
      "\n",
      "Fixed effects:\n",
      "\n",
      "Linear mixed model fit by REML [’lmerMod’]\n",
      "Formula: surprisal~wh*gap*island+(gap||item)\n",
      "\n",
      "Family: gaussian\t Inference: parametric\n",
      "\n",
      "Number of observations: 19440\t Groups: {'item': 4374.0}\n",
      "\n",
      "Log-likelihood: -42642.519 \t AIC: 85307.038\n",
      "\n",
      "Random effects:\n",
      "\n",
      "                 Name     Var    Std\n",
      "item      (Intercept)   7.291  2.700\n",
      "item.1            gap  14.375  3.791\n",
      "Residual                1.244  1.115\n",
      "\n",
      "No random effect correlations specified\n",
      "\n",
      "Fixed effects:\n",
      "\n",
      "Linear mixed model fit by REML [’lmerMod’]\n",
      "Formula: surprisal~wh*gap*island+(gap||item)\n",
      "\n",
      "Family: gaussian\t Inference: parametric\n",
      "\n",
      "Number of observations: 6480\t Groups: {'item': 1458.0}\n",
      "\n",
      "Log-likelihood: -14272.165 \t AIC: 28566.329\n",
      "\n",
      "Random effects:\n",
      "\n",
      "                 Name     Var    Std\n",
      "item      (Intercept)   7.641  2.764\n",
      "item.1            gap  15.080  3.883\n",
      "Residual                1.237  1.112\n",
      "\n",
      "No random effect correlations specified\n",
      "\n",
      "Fixed effects:\n",
      "\n",
      "Linear mixed model fit by REML [’lmerMod’]\n",
      "Formula: surprisal~wh*gap*island+(gap||item)\n",
      "\n",
      "Family: gaussian\t Inference: parametric\n",
      "\n",
      "Number of observations: 6480\t Groups: {'item': 1458.0}\n",
      "\n",
      "Log-likelihood: -14272.165 \t AIC: 28566.329\n",
      "\n",
      "Random effects:\n",
      "\n",
      "                 Name     Var    Std\n",
      "item      (Intercept)   7.641  2.764\n",
      "item.1            gap  15.080  3.883\n",
      "Residual                1.237  1.112\n",
      "\n",
      "No random effect correlations specified\n",
      "\n",
      "Fixed effects:\n",
      "\n",
      "Linear mixed model fit by REML [’lmerMod’]\n",
      "Formula: surprisal~wh*gap*island+(gap||item)\n",
      "\n",
      "Family: gaussian\t Inference: parametric\n",
      "\n",
      "Number of observations: 9720\t Groups: {'item': 2187.0}\n",
      "\n",
      "Log-likelihood: -24660.519 \t AIC: 49343.038\n",
      "\n",
      "Random effects:\n",
      "\n",
      "                 Name     Var    Std\n",
      "item      (Intercept)  11.826  3.439\n",
      "item.1            gap  18.834  4.340\n",
      "Residual                3.062  1.750\n",
      "\n",
      "No random effect correlations specified\n",
      "\n",
      "Fixed effects:\n",
      "\n",
      "Linear mixed model fit by REML [’lmerMod’]\n",
      "Formula: surprisal~wh*gap*island+(gap||item)\n",
      "\n",
      "Family: gaussian\t Inference: parametric\n",
      "\n",
      "Number of observations: 9720\t Groups: {'item': 2187.0}\n",
      "\n",
      "Log-likelihood: -24660.519 \t AIC: 49343.038\n",
      "\n",
      "Random effects:\n",
      "\n",
      "                 Name     Var    Std\n",
      "item      (Intercept)  11.826  3.439\n",
      "item.1            gap  18.834  4.340\n",
      "Residual                3.062  1.750\n",
      "\n",
      "No random effect correlations specified\n",
      "\n",
      "Fixed effects:\n",
      "\n",
      "Linear mixed model fit by REML [’lmerMod’]\n",
      "Formula: surprisal~wh*gap*island+(gap||item)\n",
      "\n",
      "Family: gaussian\t Inference: parametric\n",
      "\n",
      "Number of observations: 19440\t Groups: {'item': 4374.0}\n",
      "\n",
      "Log-likelihood: -46076.500 \t AIC: 92174.999\n",
      "\n",
      "Random effects:\n",
      "\n",
      "                 Name     Var    Std\n",
      "item      (Intercept)  22.275  4.720\n",
      "item.1            gap  22.361  4.729\n",
      "Residual                1.288  1.135\n",
      "\n",
      "No random effect correlations specified\n",
      "\n",
      "Fixed effects:\n",
      "\n",
      "Linear mixed model fit by REML [’lmerMod’]\n",
      "Formula: surprisal~wh*gap*island+(gap||item)\n",
      "\n",
      "Family: gaussian\t Inference: parametric\n",
      "\n",
      "Number of observations: 19440\t Groups: {'item': 4374.0}\n",
      "\n",
      "Log-likelihood: -46076.500 \t AIC: 92174.999\n",
      "\n",
      "Random effects:\n",
      "\n",
      "                 Name     Var    Std\n",
      "item      (Intercept)  22.275  4.720\n",
      "item.1            gap  22.361  4.729\n",
      "Residual                1.288  1.135\n",
      "\n",
      "No random effect correlations specified\n",
      "\n",
      "Fixed effects:\n",
      "\n",
      "Linear mixed model fit by REML [’lmerMod’]\n",
      "Formula: surprisal~wh*gap*island+(gap||item)\n",
      "\n",
      "Family: gaussian\t Inference: parametric\n",
      "\n",
      "Number of observations: 19440\t Groups: {'item': 4374.0}\n",
      "\n",
      "Log-likelihood: -46085.598 \t AIC: 92193.197\n",
      "\n",
      "Random effects:\n",
      "\n",
      "                 Name     Var    Std\n",
      "item      (Intercept)  18.778  4.333\n",
      "item.1            gap  19.164  4.378\n",
      "Residual                1.459  1.208\n",
      "\n",
      "No random effect correlations specified\n",
      "\n",
      "Fixed effects:\n",
      "\n",
      "Linear mixed model fit by REML [’lmerMod’]\n",
      "Formula: surprisal~wh*gap*island+(gap||item)\n",
      "\n",
      "Family: gaussian\t Inference: parametric\n",
      "\n",
      "Number of observations: 19440\t Groups: {'item': 4374.0}\n",
      "\n",
      "Log-likelihood: -46085.598 \t AIC: 92193.197\n",
      "\n",
      "Random effects:\n",
      "\n",
      "                 Name     Var    Std\n",
      "item      (Intercept)  18.778  4.333\n",
      "item.1            gap  19.164  4.378\n",
      "Residual                1.459  1.208\n",
      "\n",
      "No random effect correlations specified\n",
      "\n",
      "Fixed effects:\n",
      "\n",
      "Linear mixed model fit by REML [’lmerMod’]\n",
      "Formula: surprisal~wh*gap*island+(gap||item)\n",
      "\n",
      "Family: gaussian\t Inference: parametric\n",
      "\n",
      "Number of observations: 6480\t Groups: {'item': 1458.0}\n",
      "\n",
      "Log-likelihood: -15470.935 \t AIC: 30963.870\n",
      "\n",
      "Random effects:\n",
      "\n",
      "                 Name     Var    Std\n",
      "item      (Intercept)  18.624  4.316\n",
      "item.1            gap  18.877  4.345\n",
      "Residual                1.558  1.248\n",
      "\n",
      "No random effect correlations specified\n",
      "\n",
      "Fixed effects:\n",
      "\n",
      "Linear mixed model fit by REML [’lmerMod’]\n",
      "Formula: surprisal~wh*gap*island+(gap||item)\n",
      "\n",
      "Family: gaussian\t Inference: parametric\n",
      "\n",
      "Number of observations: 6480\t Groups: {'item': 1458.0}\n",
      "\n",
      "Log-likelihood: -15470.935 \t AIC: 30963.870\n",
      "\n",
      "Random effects:\n",
      "\n",
      "                 Name     Var    Std\n",
      "item      (Intercept)  18.624  4.316\n",
      "item.1            gap  18.877  4.345\n",
      "Residual                1.558  1.248\n",
      "\n",
      "No random effect correlations specified\n",
      "\n",
      "Fixed effects:\n",
      "\n",
      "Linear mixed model fit by REML [’lmerMod’]\n",
      "Formula: surprisal~wh*gap*island+(gap||item)\n",
      "\n",
      "Family: gaussian\t Inference: parametric\n",
      "\n",
      "Number of observations: 9720\t Groups: {'item': 2187.0}\n",
      "\n",
      "Log-likelihood: -23284.323 \t AIC: 46590.646\n",
      "\n",
      "Random effects:\n",
      "\n",
      "                 Name     Var    Std\n",
      "item      (Intercept)   3.531  1.879\n",
      "item.1            gap  11.041  3.323\n",
      "Residual                3.270  1.808\n",
      "\n",
      "No random effect correlations specified\n",
      "\n",
      "Fixed effects:\n",
      "\n",
      "Linear mixed model fit by REML [’lmerMod’]\n",
      "Formula: surprisal~wh*gap*island+(gap||item)\n",
      "\n",
      "Family: gaussian\t Inference: parametric\n",
      "\n",
      "Number of observations: 9720\t Groups: {'item': 2187.0}\n",
      "\n",
      "Log-likelihood: -23284.323 \t AIC: 46590.646\n",
      "\n",
      "Random effects:\n",
      "\n",
      "                 Name     Var    Std\n",
      "item      (Intercept)   3.531  1.879\n",
      "item.1            gap  11.041  3.323\n",
      "Residual                3.270  1.808\n",
      "\n",
      "No random effect correlations specified\n",
      "\n",
      "Fixed effects:\n",
      "\n"
     ]
    }
   ],
   "source": [
    "island_formula = \"surprisal~wh*gap*island+(gap||item)\"\n",
    "effects = interaction_effects(island_formula, constructions, models, all_island_surprisals)"
   ]
  },
  {
   "cell_type": "code",
   "execution_count": 88,
   "metadata": {},
   "outputs": [
    {
     "data": {
      "text/html": [
       "<div>\n",
       "<style scoped>\n",
       "    .dataframe tbody tr th:only-of-type {\n",
       "        vertical-align: middle;\n",
       "    }\n",
       "\n",
       "    .dataframe tbody tr th {\n",
       "        vertical-align: top;\n",
       "    }\n",
       "\n",
       "    .dataframe thead th {\n",
       "        text-align: right;\n",
       "    }\n",
       "</style>\n",
       "<table border=\"1\" class=\"dataframe\">\n",
       "  <thead>\n",
       "    <tr style=\"text-align: right;\">\n",
       "      <th></th>\n",
       "      <th>Estimate</th>\n",
       "      <th>P-val</th>\n",
       "      <th>model</th>\n",
       "      <th>condition</th>\n",
       "    </tr>\n",
       "  </thead>\n",
       "  <tbody>\n",
       "    <tr>\n",
       "      <th>0</th>\n",
       "      <td>4.449</td>\n",
       "      <td>0.000</td>\n",
       "      <td>grnn</td>\n",
       "      <td>cleft</td>\n",
       "    </tr>\n",
       "    <tr>\n",
       "      <th>1</th>\n",
       "      <td>-0.069</td>\n",
       "      <td>0.520</td>\n",
       "      <td>grnn</td>\n",
       "      <td>intro_topic</td>\n",
       "    </tr>\n",
       "    <tr>\n",
       "      <th>2</th>\n",
       "      <td>-0.164</td>\n",
       "      <td>0.374</td>\n",
       "      <td>grnn</td>\n",
       "      <td>nointro_topic</td>\n",
       "    </tr>\n",
       "    <tr>\n",
       "      <th>3</th>\n",
       "      <td>6.729</td>\n",
       "      <td>0.000</td>\n",
       "      <td>grnn</td>\n",
       "      <td>tough</td>\n",
       "    </tr>\n",
       "    <tr>\n",
       "      <th>4</th>\n",
       "      <td>6.388</td>\n",
       "      <td>0.000</td>\n",
       "      <td>gpt2</td>\n",
       "      <td>cleft</td>\n",
       "    </tr>\n",
       "    <tr>\n",
       "      <th>5</th>\n",
       "      <td>1.322</td>\n",
       "      <td>0.000</td>\n",
       "      <td>gpt2</td>\n",
       "      <td>intro_topic</td>\n",
       "    </tr>\n",
       "    <tr>\n",
       "      <th>6</th>\n",
       "      <td>1.273</td>\n",
       "      <td>0.000</td>\n",
       "      <td>gpt2</td>\n",
       "      <td>nointro_topic</td>\n",
       "    </tr>\n",
       "    <tr>\n",
       "      <th>7</th>\n",
       "      <td>6.245</td>\n",
       "      <td>0.000</td>\n",
       "      <td>gpt2</td>\n",
       "      <td>tough</td>\n",
       "    </tr>\n",
       "  </tbody>\n",
       "</table>\n",
       "</div>"
      ],
      "text/plain": [
       "   Estimate  P-val model      condition\n",
       "0     4.449  0.000  grnn          cleft\n",
       "1    -0.069  0.520  grnn    intro_topic\n",
       "2    -0.164  0.374  grnn  nointro_topic\n",
       "3     6.729  0.000  grnn          tough\n",
       "4     6.388  0.000  gpt2          cleft\n",
       "5     1.322  0.000  gpt2    intro_topic\n",
       "6     1.273  0.000  gpt2  nointro_topic\n",
       "7     6.245  0.000  gpt2          tough"
      ]
     },
     "execution_count": 88,
     "metadata": {},
     "output_type": "execute_result"
    }
   ],
   "source": [
    "pd.DataFrame(effects).reset_index()[['Estimate', 'P-val', 'model', 'condition']]"
   ]
  },
  {
   "cell_type": "code",
   "execution_count": null,
   "metadata": {},
   "outputs": [],
   "source": []
  }
 ],
 "metadata": {
  "kernelspec": {
   "display_name": ".venv_gpt2",
   "language": "python",
   "name": "python3"
  },
  "language_info": {
   "codemirror_mode": {
    "name": "ipython",
    "version": 3
   },
   "file_extension": ".py",
   "mimetype": "text/x-python",
   "name": "python",
   "nbconvert_exporter": "python",
   "pygments_lexer": "ipython3",
   "version": "3.9.18"
  }
 },
 "nbformat": 4,
 "nbformat_minor": 2
}
