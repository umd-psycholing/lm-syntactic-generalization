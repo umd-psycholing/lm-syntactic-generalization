{
 "cells": [
  {
   "cell_type": "code",
   "execution_count": 16,
   "metadata": {},
   "outputs": [],
   "source": [
    "# imports\n",
    "import matplotlib.pyplot as plt\n",
    "import generate_corpora as gc\n",
    "import numpy as np\n",
    "\n",
    "model = \"gpt2\""
   ]
  },
  {
   "cell_type": "code",
   "execution_count": 18,
   "metadata": {},
   "outputs": [
    {
     "data": {
      "image/png": "[encoded data removed]",
      "text/plain": [
       "<Figure size 640x480 with 2 Axes>"
      ]
     },
     "metadata": {},
     "output_type": "display_data"
    }
   ],
   "source": [
    "# clefting\n",
    "\n",
    "# read data\n",
    "# control\n",
    "clefting_c_data = gc.corpus_from_json(f\"grammar_outputs/simple_cfgs/{model}/cleft_grammar_c.json\", True)\n",
    "plus_gap_filler_effects_c = []\n",
    "no_gap_filler_effects_c = []\n",
    "for sentence_tuple in clefting_c_data:\n",
    "    plus_gap_filler_effects_c.append(sentence_tuple.s_ab.critical_surprisal - sentence_tuple.s_ax.critical_surprisal)\n",
    "    no_gap_filler_effects_c.append(sentence_tuple.s_xb.critical_surprisal - sentence_tuple.s_xx.critical_surprisal)\n",
    "    \n",
    "# island\n",
    "clefting_i_data = gc.corpus_from_json(f\"grammar_outputs/simple_cfgs/{model}/cleft_grammar_i.json\", True)\n",
    "plus_gap_filler_effects_i = []\n",
    "no_gap_filler_effects_i = []\n",
    "for sentence_tuple in clefting_i_data:\n",
    "    plus_gap_filler_effects_i.append(sentence_tuple.s_ab.critical_surprisal - sentence_tuple.s_ax.critical_surprisal)\n",
    "    no_gap_filler_effects_i.append(sentence_tuple.s_xb.critical_surprisal - sentence_tuple.s_xx.critical_surprisal)\n",
    "\n",
    "# plot\n",
    "# control\n",
    "plt.subplot(1,2,1)\n",
    "plt.bar(\n",
    "    (\n",
    "        f\"+gap\",\n",
    "        f\"-gap\"\n",
    "    ),\n",
    "    (\n",
    "        np.mean(plus_gap_filler_effects_c),\n",
    "        np.mean(no_gap_filler_effects_c)\n",
    "    ),\n",
    "    color=['lightblue', 'lightcoral']\n",
    ")\n",
    "plt.ylim(-5, 5)\n",
    "plt.title(f\"CLEFTING (control) {model}\")\n",
    "\n",
    "# island\n",
    "plt.subplot(1,2,2)\n",
    "plt.bar(\n",
    "    (\n",
    "        f\"+gap\",\n",
    "        f\"-gap\"\n",
    "    ),\n",
    "    (\n",
    "        np.mean(plus_gap_filler_effects_i),\n",
    "        np.mean(no_gap_filler_effects_i)\n",
    "    ),\n",
    "    color=['lightblue', 'lightcoral']\n",
    ")\n",
    "plt.ylim(-5, 5)\n",
    "plt.title(f\"CLEFTING (island) {model}\")\n",
    "plt.show()"
   ]
  },
  {
   "cell_type": "code",
   "execution_count": null,
   "metadata": {},
   "outputs": [],
   "source": [
    "# topicalization w/ intro"
   ]
  },
  {
   "cell_type": "code",
   "execution_count": null,
   "metadata": {},
   "outputs": [],
   "source": [
    "# topicalization w/out intro"
   ]
  },
  {
   "cell_type": "code",
   "execution_count": null,
   "metadata": {},
   "outputs": [],
   "source": [
    "# tough movement"
   ]
  }
 ],
 "metadata": {
  "kernelspec": {
   "display_name": ".venv_gpt2",
   "language": "python",
   "name": "python3"
  },
  "language_info": {
   "codemirror_mode": {
    "name": "ipython",
    "version": 3
   },
   "file_extension": ".py",
   "mimetype": "text/x-python",
   "name": "python",
   "nbconvert_exporter": "python",
   "pygments_lexer": "ipython3",
   "version": "3.11.4"
  }
 },
 "nbformat": 4,
 "nbformat_minor": 2
}
