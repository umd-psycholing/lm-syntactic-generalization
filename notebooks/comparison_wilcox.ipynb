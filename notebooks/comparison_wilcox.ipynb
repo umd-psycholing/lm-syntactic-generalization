{
 "cells": [
  {
   "cell_type": "code",
   "execution_count": null,
   "id": "d43240c9",
   "metadata": {},
   "outputs": [
    {
     "ename": "",
     "evalue": "",
     "output_type": "error",
     "traceback": [
      "\u001b[1;31mRunning cells with 'grnn-env' requires the ipykernel package.\n",
      "\u001b[1;31mRun the following command to install 'ipykernel' into the Python environment. \n",
      "\u001b[1;31mCommand: 'conda install -n grnn-env ipykernel --update-deps --force-reinstall'"
     ]
    }
   ],
   "source": [
    "import json\n",
    "import os\n",
    "import pandas as pd\n",
    "\n",
    "import matplotlib.pyplot as plt\n",
    "import seaborn as sns\n",
    "sns.set_style(\"darkgrid\")\n",
    "sns.set_palette('colorblind')"
   ]
  },
  {
   "cell_type": "code",
   "execution_count": 11,
   "id": "1ed1b80b",
   "metadata": {},
   "outputs": [],
   "source": [
    "all_outputs = os.listdir(\"../grammar_outputs/wilcox_replication\")\n",
    "basic_outputs = [output_file for output_file in all_outputs if \"basic\" in output_file]\n",
    "basic_effects = []\n",
    "for output_filename in basic_outputs:\n",
    "    construction_data = json.load(open(os.path.join(\"grammar_outputs\", \"wilcox_replication\",output_filename)))\n",
    "    stim_id = 1\n",
    "    # get model/construction (subj obj or pp) from filenames\n",
    "    model_name = output_filename.split(\".json\")[0][-4:]\n",
    "    construction_name = output_filename.split(\".json\")[0].split(\"_\")[1]\n",
    "    for stim_set in construction_data:\n",
    "        basic_effects.append({\n",
    "            \"item\": stim_id,\n",
    "            \"model\": model_name,\n",
    "            \"test\": construction_name,\n",
    "            \"gap\": \"gap\",\n",
    "            \"wh_effect\": stim_set['s_ab']['critical_surprisal'] - stim_set['s_xb']['critical_surprisal']\n",
    "        })\n",
    "        basic_effects.append({\n",
    "                        \"item\": stim_id,\n",
    "            \"model\": model_name,\n",
    "            \"test\": construction_name,\n",
    "            \"gap\": \"nogap\",\n",
    "            \"wh_effect\": stim_set['s_ax']['critical_surprisal'] - stim_set['s_xx']['critical_surprisal']\n",
    "        })\n",
    "        stim_id +=1\n"
   ]
  },
  {
   "cell_type": "code",
   "execution_count": 12,
   "id": "8c1fbdd2",
   "metadata": {},
   "outputs": [
    {
     "data": {
      "image/png": "[encoded data removed]",
      "text/plain": [
       "<Figure size 1088.62x500 with 2 Axes>"
      ]
     },
     "metadata": {},
     "output_type": "display_data"
    }
   ],
   "source": [
    "basic_effects = pd.DataFrame(basic_effects)\n",
    "sns.catplot(x=\"test\", y=\"wh_effect\", hue=\"gap\", data=basic_effects, kind=\"bar\", col = \"model\",\n",
    "            estimator=\"mean\")\n",
    "if \"figures\" not in os.listdir(\".\"):\n",
    "    os.mkdir(\"figures\")\n",
    "plt.savefig(\"figures/basic_fg.png\")"
   ]
  },
  {
   "cell_type": "markdown",
   "id": "f619d620",
   "metadata": {},
   "source": [
    "Wilcox et al: run \"Linear mixed-effects models on raw surprisal values with sum-coded conditions and by-item random slopes\". We're looking for a significantly negative interaction term between the presence & absence of gaps.\n",
    "\n",
    "In order to do this, we need to re-read the files for raw surprisal values and make features to put into our regression model (wh/that, gap/nogap)"
   ]
  },
  {
   "cell_type": "code",
   "execution_count": 13,
   "id": "b118e1c8",
   "metadata": {},
   "outputs": [],
   "source": [
    "def modify_base_dict(sentence_key, stim_set, base_dict):\n",
    "    sent_copy = base_dict.copy()\n",
    "    # replace 0 with -1 for island\n",
    "    if sentence_key == \"s_ab\":\n",
    "        sent_copy['wh'] = 1\n",
    "        sent_copy['gap'] = 1\n",
    "        sent_copy['surprisal'] = stim_set[sentence_key]['critical_surprisal']\n",
    "    elif sentence_key == \"s_xb\":\n",
    "        sent_copy['wh'] = 0\n",
    "        sent_copy['gap'] = 1\n",
    "        sent_copy['surprisal'] = stim_set[sentence_key]['critical_surprisal']\n",
    "    elif sentence_key == \"s_ax\":\n",
    "        sent_copy['wh'] = 1\n",
    "        sent_copy['gap'] = 0\n",
    "        sent_copy['surprisal'] = stim_set[sentence_key]['critical_surprisal']\n",
    "    else: # s_xx\n",
    "        sent_copy['wh'] = 0\n",
    "        sent_copy['gap'] = 0\n",
    "        sent_copy['surprisal'] = stim_set[sentence_key]['critical_surprisal']\n",
    "    return sent_copy"
   ]
  },
  {
   "cell_type": "code",
   "execution_count": 14,
   "id": "ff286f2e",
   "metadata": {},
   "outputs": [],
   "source": [
    "basic_surprisals = []\n",
    "for output_filename in basic_outputs:\n",
    "    construction_data = json.load(open(os.path.join(\"grammar_outputs\", \"wilcox_replication\",output_filename)))\n",
    "    stim_id = 1\n",
    "    # adding surprisals individually because that's what works with the sentence tuples\n",
    "    for i in construction_data:\n",
    "        model_name = output_filename.split(\".json\")[0][-4:]\n",
    "        construction_name = output_filename.split(\".json\")[0].split(\"_\")[1]\n",
    "        for stim_set in construction_data:\n",
    "            base_info = {\n",
    "                \"item\": stim_id,\n",
    "                \"model\": model_name,\n",
    "                \"test\": construction_name\n",
    "            }\n",
    "            basic_surprisals.append(modify_base_dict(\"s_ab\", stim_set, base_info))\n",
    "            basic_surprisals.append(modify_base_dict(\"s_xb\", stim_set, base_info))\n",
    "            basic_surprisals.append(modify_base_dict(\"s_ax\", stim_set, base_info))\n",
    "            basic_surprisals.append(modify_base_dict(\"s_xx\", stim_set, base_info))\n",
    "            stim_id +=1"
   ]
  },
  {
   "cell_type": "code",
   "execution_count": 15,
   "id": "61e72695",
   "metadata": {},
   "outputs": [],
   "source": [
    "basic_surprisals = pd.DataFrame(basic_surprisals)"
   ]
  },
  {
   "cell_type": "markdown",
   "id": "f34b6cca",
   "metadata": {},
   "source": [
    "We now fit mixed-effects models for each model & condition"
   ]
  },
  {
   "cell_type": "code",
   "execution_count": 16,
   "id": "325b60f6",
   "metadata": {},
   "outputs": [],
   "source": [
    "from pymer4.models import Lmer\n"
   ]
  },
  {
   "cell_type": "code",
   "execution_count": 17,
   "id": "ab634b26",
   "metadata": {},
   "outputs": [],
   "source": [
    "def fit_regression_model(lm, condition, surprisal_data, formula):\n",
    "    condition_data = surprisal_data[(surprisal_data['model'] == lm) & (surprisal_data['test'] == condition)]\n",
    "    model = Lmer(formula, data = condition_data)\n",
    "    model.fit()\n",
    "    return model.summary()"
   ]
  },
  {
   "cell_type": "code",
   "execution_count": 18,
   "id": "e68e36d6",
   "metadata": {},
   "outputs": [],
   "source": [
    "import itertools"
   ]
  },
  {
   "cell_type": "code",
   "execution_count": null,
   "id": "36fba5b6",
   "metadata": {},
   "outputs": [
    {
     "ename": "TypeError",
     "evalue": "fit_regression_model() missing 1 required positional argument: 'formula'",
     "output_type": "error",
     "traceback": [
      "\u001b[0;31m---------------------------------------------------------------------------\u001b[0m",
      "\u001b[0;31mTypeError\u001b[0m                                 Traceback (most recent call last)",
      "Cell \u001b[0;32mIn[19], line 5\u001b[0m\n\u001b[1;32m      3\u001b[0m basic_formula \u001b[38;5;241m=\u001b[39m \u001b[38;5;124m\"\u001b[39m\u001b[38;5;124msurprisal ~ wh * gap + (wh+gap || item)\u001b[39m\u001b[38;5;124m\"\u001b[39m\n\u001b[1;32m      4\u001b[0m \u001b[38;5;28;01mfor\u001b[39;00m condition, model \u001b[38;5;129;01min\u001b[39;00m itertools\u001b[38;5;241m.\u001b[39mproduct(conditions, models):\n\u001b[0;32m----> 5\u001b[0m     summary \u001b[38;5;241m=\u001b[39m \u001b[43mfit_regression_model\u001b[49m\u001b[43m(\u001b[49m\u001b[43mmodel\u001b[49m\u001b[43m,\u001b[49m\u001b[43m \u001b[49m\u001b[43mcondition\u001b[49m\u001b[43m,\u001b[49m\u001b[43m \u001b[49m\u001b[43mbasic_surprisals\u001b[49m\u001b[43m)\u001b[49m\n\u001b[1;32m      6\u001b[0m     result \u001b[38;5;241m=\u001b[39m summary[[\u001b[38;5;124m'\u001b[39m\u001b[38;5;124mEstimate\u001b[39m\u001b[38;5;124m'\u001b[39m, \u001b[38;5;124m'\u001b[39m\u001b[38;5;124mP-val\u001b[39m\u001b[38;5;124m'\u001b[39m, \u001b[38;5;124m'\u001b[39m\u001b[38;5;124mSig\u001b[39m\u001b[38;5;124m'\u001b[39m]]\u001b[38;5;241m.\u001b[39miloc[\u001b[38;5;241m-\u001b[39m\u001b[38;5;241m1\u001b[39m]\n\u001b[1;32m      7\u001b[0m     result[\u001b[38;5;124m'\u001b[39m\u001b[38;5;124mmodel\u001b[39m\u001b[38;5;124m'\u001b[39m] \u001b[38;5;241m=\u001b[39m model\n",
      "\u001b[0;31mTypeError\u001b[0m: fit_regression_model() missing 1 required positional argument: 'formula'"
     ]
    }
   ],
   "source": [
    "conditions, models = basic_surprisals['test'].unique(), basic_surprisals['model'].unique()\n",
    "interaction_results = []\n",
    "basic_formula = \"surprisal ~ wh * gap + (wh+gap || item)\"\n",
    "for condition, model in itertools.product(conditions, models):\n",
    "    summary = fit_regression_model(model, condition, basic_surprisals, basic_formula)\n",
    "    result = summary[['Estimate', 'P-val', 'Sig']].iloc[-1]\n",
    "    result['model'] = model\n",
    "    result['condition'] = condition\n",
    "    interaction_results.append(result)\n"
   ]
  },
  {
   "cell_type": "markdown",
   "id": "5b148272",
   "metadata": {},
   "source": [
    "We have a negative interaction term, and the result is statistically significant (really low p-values get rounded down to 0)."
   ]
  },
  {
   "cell_type": "code",
   "execution_count": 20,
   "id": "00cf7b57",
   "metadata": {},
   "outputs": [
    {
     "data": {
      "text/html": [
       "<div>\n",
       "<style scoped>\n",
       "    .dataframe tbody tr th:only-of-type {\n",
       "        vertical-align: middle;\n",
       "    }\n",
       "\n",
       "    .dataframe tbody tr th {\n",
       "        vertical-align: top;\n",
       "    }\n",
       "\n",
       "    .dataframe thead th {\n",
       "        text-align: right;\n",
       "    }\n",
       "</style>\n",
       "<table border=\"1\" class=\"dataframe\">\n",
       "  <thead>\n",
       "    <tr style=\"text-align: right;\">\n",
       "      <th></th>\n",
       "    </tr>\n",
       "  </thead>\n",
       "  <tbody>\n",
       "  </tbody>\n",
       "</table>\n",
       "</div>"
      ],
      "text/plain": [
       "Empty DataFrame\n",
       "Columns: []\n",
       "Index: []"
      ]
     },
     "execution_count": 20,
     "metadata": {},
     "output_type": "execute_result"
    }
   ],
   "source": [
    "pd.DataFrame(interaction_results)"
   ]
  },
  {
   "cell_type": "markdown",
   "id": "b85b3aab",
   "metadata": {},
   "source": [
    "## Plotting the Island data"
   ]
  },
  {
   "cell_type": "code",
   "execution_count": 21,
   "id": "5d1b453f",
   "metadata": {},
   "outputs": [],
   "source": [
    "from generate_corpora import corpus_from_json\n",
    "from analysis import island_effects_for_model\n",
    "import pandas as pd\n",
    "import seaborn as sns"
   ]
  },
  {
   "cell_type": "code",
   "execution_count": 22,
   "id": "e00979bd",
   "metadata": {},
   "outputs": [],
   "source": [
    "grnn_cnp_island_effects = island_effects_for_model(\"grnn\", \"grammar_outputs/wilcox_replication/island_cnp_obj_grnn.json\",\n",
    "                                                   \"grammar_outputs/wilcox_replication/island_cnp_that_grnn.json\", \"wh_mvt\")\n",
    "gpt2_cnp_island_effects = island_effects_for_model(\"gpt2\", \"grammar_outputs/wilcox_replication/island_cnp_obj_gpt2.json\",\n",
    "                                                   \"grammar_outputs/wilcox_replication/island_cnp_that_gpt2.json\", \"wh_mvt\")\n",
    "island_effects = pd.DataFrame(grnn_cnp_island_effects + gpt2_cnp_island_effects)"
   ]
  },
  {
   "cell_type": "code",
   "execution_count": 23,
   "id": "910d1920",
   "metadata": {},
   "outputs": [
    {
     "data": {
      "image/png": "[encoded data removed]",
      "text/plain": [
       "<Figure size 1088.62x500 with 2 Axes>"
      ]
     },
     "metadata": {},
     "output_type": "display_data"
    }
   ],
   "source": [
    "sns.catplot(x=\"condition\", y=\"wh_effect\", hue=\"gap\", data=island_effects, kind=\"bar\", col = \"model\",\n",
    "            estimator=\"mean\")\n",
    "plt.savefig(\"figures/wilcox_cnp_island.png\")"
   ]
  },
  {
   "cell_type": "code",
   "execution_count": 24,
   "id": "f7d4d67f",
   "metadata": {},
   "outputs": [],
   "source": [
    "model = \"gpt2\"\n",
    "control_tuples = corpus_from_json(f\"grammar_outputs/wilcox_replication/island_cnp_obj_{model_name}.json\", is_tuples = True)\n",
    "island_tuples = corpus_from_json(f\"grammar_outputs/wilcox_replication/island_cnp_that_{model_name}.json\", is_tuples = True)\n",
    "\n",
    "def island_surprisals(condition_name, tuples, model_name):\n",
    "    stim_id = 1\n",
    "    # adding surprisals individually because that's what works with the sentence tuples\n",
    "    surprisals = []\n",
    "    for stim_set in tuples:\n",
    "        stim_set = stim_set.to_dict()\n",
    "        base_info = {\n",
    "            \"item\": stim_id,\n",
    "            \"model\": model_name,\n",
    "            \"island\": condition_name\n",
    "        }\n",
    "        surprisals.append(modify_base_dict(\"s_ab\", stim_set, base_info))\n",
    "        surprisals.append(modify_base_dict(\"s_xb\", stim_set, base_info))\n",
    "        surprisals.append(modify_base_dict(\"s_ax\", stim_set, base_info))\n",
    "        surprisals.append(modify_base_dict(\"s_xx\", stim_set, base_info))\n",
    "        stim_id +=1\n",
    "    return surprisals"
   ]
  },
  {
   "cell_type": "code",
   "execution_count": 25,
   "id": "41b4cc0b",
   "metadata": {},
   "outputs": [],
   "source": [
    "all_island_surprisals = []\n",
    "for model_name in [\"gpt2\", \"grnn\"]:\n",
    "    control_tuples = corpus_from_json(f\"grammar_outputs/wilcox_replication/island_cnp_obj_{model_name}.json\", is_tuples = True)\n",
    "    island_tuples = corpus_from_json(f\"grammar_outputs/wilcox_replication/island_cnp_that_{model_name}.json\", is_tuples = True)\n",
    "    all_island_surprisals += island_surprisals(\"control\", control_tuples, model_name)\n",
    "    all_island_surprisals += island_surprisals(\"island\", island_tuples, model_name)"
   ]
  },
  {
   "cell_type": "code",
   "execution_count": 26,
   "id": "f56617ba",
   "metadata": {},
   "outputs": [],
   "source": [
    "all_island_surprisals = pd.DataFrame(all_island_surprisals)\n"
   ]
  },
  {
   "cell_type": "markdown",
   "id": "a37e3d16",
   "metadata": {},
   "source": [
    "The three-way interaction term (filler x gap x island) is significant for both models."
   ]
  },
  {
   "cell_type": "code",
   "execution_count": 27,
   "id": "104233c7",
   "metadata": {},
   "outputs": [
    {
     "name": "stdout",
     "output_type": "stream",
     "text": [
      "Linear mixed model fit by REML [’lmerMod’]\n",
      "Formula: surprisal~wh*gap*island+(gap||item)\n",
      "\n",
      "Family: gaussian\t Inference: parametric\n",
      "\n",
      "Number of observations: 224\t Groups: {'item': 28.0}\n",
      "\n",
      "Log-likelihood: -569.953 \t AIC: 1161.906\n",
      "\n",
      "Random effects:\n",
      "\n",
      "                 Name     Var    Std\n",
      "item      (Intercept)  33.538  5.791\n",
      "item.1            gap  64.841  8.052\n",
      "Residual                3.803  1.950\n",
      "\n",
      "No random effect correlations specified\n",
      "\n",
      "Fixed effects:\n",
      "\n",
      "Linear mixed model fit by REML [’lmerMod’]\n",
      "Formula: surprisal~wh*gap*island+(gap||item)\n",
      "\n",
      "Family: gaussian\t Inference: parametric\n",
      "\n",
      "Number of observations: 224\t Groups: {'item': 28.0}\n",
      "\n",
      "Log-likelihood: -569.953 \t AIC: 1161.906\n",
      "\n",
      "Random effects:\n",
      "\n",
      "                 Name     Var    Std\n",
      "item      (Intercept)  33.538  5.791\n",
      "item.1            gap  64.841  8.052\n",
      "Residual                3.803  1.950\n",
      "\n",
      "No random effect correlations specified\n",
      "\n",
      "Fixed effects:\n",
      "\n"
     ]
    },
    {
     "data": {
      "text/html": [
       "<div>\n",
       "<style scoped>\n",
       "    .dataframe tbody tr th:only-of-type {\n",
       "        vertical-align: middle;\n",
       "    }\n",
       "\n",
       "    .dataframe tbody tr th {\n",
       "        vertical-align: top;\n",
       "    }\n",
       "\n",
       "    .dataframe thead th {\n",
       "        text-align: right;\n",
       "    }\n",
       "</style>\n",
       "<table border=\"1\" class=\"dataframe\">\n",
       "  <thead>\n",
       "    <tr style=\"text-align: right;\">\n",
       "      <th></th>\n",
       "      <th>Estimate</th>\n",
       "      <th>2.5_ci</th>\n",
       "      <th>97.5_ci</th>\n",
       "      <th>SE</th>\n",
       "      <th>DF</th>\n",
       "      <th>T-stat</th>\n",
       "      <th>P-val</th>\n",
       "      <th>Sig</th>\n",
       "    </tr>\n",
       "  </thead>\n",
       "  <tbody>\n",
       "    <tr>\n",
       "      <th>(Intercept)</th>\n",
       "      <td>16.030</td>\n",
       "      <td>13.767</td>\n",
       "      <td>18.293</td>\n",
       "      <td>1.155</td>\n",
       "      <td>31.625</td>\n",
       "      <td>13.881</td>\n",
       "      <td>0.000</td>\n",
       "      <td>***</td>\n",
       "    </tr>\n",
       "    <tr>\n",
       "      <th>wh</th>\n",
       "      <td>2.298</td>\n",
       "      <td>1.276</td>\n",
       "      <td>3.319</td>\n",
       "      <td>0.521</td>\n",
       "      <td>160.061</td>\n",
       "      <td>4.409</td>\n",
       "      <td>0.000</td>\n",
       "      <td>***</td>\n",
       "    </tr>\n",
       "    <tr>\n",
       "      <th>gap</th>\n",
       "      <td>6.210</td>\n",
       "      <td>3.057</td>\n",
       "      <td>9.363</td>\n",
       "      <td>1.609</td>\n",
       "      <td>31.786</td>\n",
       "      <td>3.861</td>\n",
       "      <td>0.001</td>\n",
       "      <td>***</td>\n",
       "    </tr>\n",
       "    <tr>\n",
       "      <th>islandisland</th>\n",
       "      <td>-2.362</td>\n",
       "      <td>-3.384</td>\n",
       "      <td>-1.341</td>\n",
       "      <td>0.521</td>\n",
       "      <td>160.061</td>\n",
       "      <td>-4.532</td>\n",
       "      <td>0.000</td>\n",
       "      <td>***</td>\n",
       "    </tr>\n",
       "    <tr>\n",
       "      <th>wh:gap</th>\n",
       "      <td>-3.621</td>\n",
       "      <td>-5.066</td>\n",
       "      <td>-2.177</td>\n",
       "      <td>0.737</td>\n",
       "      <td>160.061</td>\n",
       "      <td>-4.913</td>\n",
       "      <td>0.000</td>\n",
       "      <td>***</td>\n",
       "    </tr>\n",
       "    <tr>\n",
       "      <th>wh:islandisland</th>\n",
       "      <td>-1.976</td>\n",
       "      <td>-3.420</td>\n",
       "      <td>-0.531</td>\n",
       "      <td>0.737</td>\n",
       "      <td>160.061</td>\n",
       "      <td>-2.680</td>\n",
       "      <td>0.008</td>\n",
       "      <td>**</td>\n",
       "    </tr>\n",
       "    <tr>\n",
       "      <th>gap:islandisland</th>\n",
       "      <td>2.226</td>\n",
       "      <td>0.782</td>\n",
       "      <td>3.671</td>\n",
       "      <td>0.737</td>\n",
       "      <td>160.061</td>\n",
       "      <td>3.020</td>\n",
       "      <td>0.003</td>\n",
       "      <td>**</td>\n",
       "    </tr>\n",
       "    <tr>\n",
       "      <th>wh:gap:islandisland</th>\n",
       "      <td>2.563</td>\n",
       "      <td>0.520</td>\n",
       "      <td>4.606</td>\n",
       "      <td>1.042</td>\n",
       "      <td>160.061</td>\n",
       "      <td>2.459</td>\n",
       "      <td>0.015</td>\n",
       "      <td>*</td>\n",
       "    </tr>\n",
       "  </tbody>\n",
       "</table>\n",
       "</div>"
      ],
      "text/plain": [
       "                     Estimate  2.5_ci  97.5_ci     SE       DF  T-stat  P-val  \\\n",
       "(Intercept)            16.030  13.767   18.293  1.155   31.625  13.881  0.000   \n",
       "wh                      2.298   1.276    3.319  0.521  160.061   4.409  0.000   \n",
       "gap                     6.210   3.057    9.363  1.609   31.786   3.861  0.001   \n",
       "islandisland           -2.362  -3.384   -1.341  0.521  160.061  -4.532  0.000   \n",
       "wh:gap                 -3.621  -5.066   -2.177  0.737  160.061  -4.913  0.000   \n",
       "wh:islandisland        -1.976  -3.420   -0.531  0.737  160.061  -2.680  0.008   \n",
       "gap:islandisland        2.226   0.782    3.671  0.737  160.061   3.020  0.003   \n",
       "wh:gap:islandisland     2.563   0.520    4.606  1.042  160.061   2.459  0.015   \n",
       "\n",
       "                     Sig  \n",
       "(Intercept)          ***  \n",
       "wh                   ***  \n",
       "gap                  ***  \n",
       "islandisland         ***  \n",
       "wh:gap               ***  \n",
       "wh:islandisland       **  \n",
       "gap:islandisland      **  \n",
       "wh:gap:islandisland    *  "
      ]
     },
     "execution_count": 27,
     "metadata": {},
     "output_type": "execute_result"
    }
   ],
   "source": [
    "grnn_island = all_island_surprisals[all_island_surprisals['model'] == 'grnn']\n",
    "model = Lmer(\"surprisal~wh*gap*island+(gap||item)\", data = grnn_island)\n",
    "model.fit()\n",
    "model.summary()"
   ]
  },
  {
   "cell_type": "code",
   "execution_count": 384,
   "id": "c9f520a5",
   "metadata": {},
   "outputs": [
    {
     "name": "stdout",
     "output_type": "stream",
     "text": [
      "Linear mixed model fit by REML [’lmerMod’]\n",
      "Formula: surprisal~wh*gap*island+(gap||item)\n",
      "\n",
      "Family: gaussian\t Inference: parametric\n",
      "\n",
      "Number of observations: 224\t Groups: {'item': 28.0}\n",
      "\n",
      "Log-likelihood: -543.821 \t AIC: 1109.641\n",
      "\n",
      "Random effects:\n",
      "\n",
      "                 Name     Var    Std\n",
      "item      (Intercept)  19.777  4.447\n",
      "item.1            gap  16.278  4.035\n",
      "Residual                3.727  1.931\n",
      "\n",
      "No random effect correlations specified\n",
      "\n",
      "Fixed effects:\n",
      "\n",
      "Linear mixed model fit by REML [’lmerMod’]\n",
      "Formula: surprisal~wh*gap*island+(gap||item)\n",
      "\n",
      "Family: gaussian\t Inference: parametric\n",
      "\n",
      "Number of observations: 224\t Groups: {'item': 28.0}\n",
      "\n",
      "Log-likelihood: -543.821 \t AIC: 1109.641\n",
      "\n",
      "Random effects:\n",
      "\n",
      "                 Name     Var    Std\n",
      "item      (Intercept)  19.777  4.447\n",
      "item.1            gap  16.278  4.035\n",
      "Residual                3.727  1.931\n",
      "\n",
      "No random effect correlations specified\n",
      "\n",
      "Fixed effects:\n",
      "\n"
     ]
    },
    {
     "data": {
      "text/html": [
       "<div>\n",
       "<style scoped>\n",
       "    .dataframe tbody tr th:only-of-type {\n",
       "        vertical-align: middle;\n",
       "    }\n",
       "\n",
       "    .dataframe tbody tr th {\n",
       "        vertical-align: top;\n",
       "    }\n",
       "\n",
       "    .dataframe thead th {\n",
       "        text-align: right;\n",
       "    }\n",
       "</style>\n",
       "<table border=\"1\" class=\"dataframe\">\n",
       "  <thead>\n",
       "    <tr style=\"text-align: right;\">\n",
       "      <th></th>\n",
       "      <th>Estimate</th>\n",
       "      <th>2.5_ci</th>\n",
       "      <th>97.5_ci</th>\n",
       "      <th>SE</th>\n",
       "      <th>DF</th>\n",
       "      <th>T-stat</th>\n",
       "      <th>P-val</th>\n",
       "      <th>Sig</th>\n",
       "    </tr>\n",
       "  </thead>\n",
       "  <tbody>\n",
       "    <tr>\n",
       "      <th>(Intercept)</th>\n",
       "      <td>14.503</td>\n",
       "      <td>12.707</td>\n",
       "      <td>16.299</td>\n",
       "      <td>0.916</td>\n",
       "      <td>34.766</td>\n",
       "      <td>15.830</td>\n",
       "      <td>0.000</td>\n",
       "      <td>***</td>\n",
       "    </tr>\n",
       "    <tr>\n",
       "      <th>wh</th>\n",
       "      <td>3.757</td>\n",
       "      <td>2.745</td>\n",
       "      <td>4.768</td>\n",
       "      <td>0.516</td>\n",
       "      <td>158.233</td>\n",
       "      <td>7.281</td>\n",
       "      <td>0.000</td>\n",
       "      <td>***</td>\n",
       "    </tr>\n",
       "    <tr>\n",
       "      <th>gap</th>\n",
       "      <td>2.692</td>\n",
       "      <td>0.888</td>\n",
       "      <td>4.497</td>\n",
       "      <td>0.921</td>\n",
       "      <td>45.769</td>\n",
       "      <td>2.925</td>\n",
       "      <td>0.005</td>\n",
       "      <td>**</td>\n",
       "    </tr>\n",
       "    <tr>\n",
       "      <th>islandisland</th>\n",
       "      <td>-1.993</td>\n",
       "      <td>-3.005</td>\n",
       "      <td>-0.982</td>\n",
       "      <td>0.516</td>\n",
       "      <td>158.233</td>\n",
       "      <td>-3.864</td>\n",
       "      <td>0.000</td>\n",
       "      <td>***</td>\n",
       "    </tr>\n",
       "    <tr>\n",
       "      <th>wh:gap</th>\n",
       "      <td>-7.129</td>\n",
       "      <td>-8.559</td>\n",
       "      <td>-5.699</td>\n",
       "      <td>0.730</td>\n",
       "      <td>158.233</td>\n",
       "      <td>-9.770</td>\n",
       "      <td>0.000</td>\n",
       "      <td>***</td>\n",
       "    </tr>\n",
       "    <tr>\n",
       "      <th>wh:islandisland</th>\n",
       "      <td>-3.356</td>\n",
       "      <td>-4.786</td>\n",
       "      <td>-1.926</td>\n",
       "      <td>0.730</td>\n",
       "      <td>158.233</td>\n",
       "      <td>-4.599</td>\n",
       "      <td>0.000</td>\n",
       "      <td>***</td>\n",
       "    </tr>\n",
       "    <tr>\n",
       "      <th>gap:islandisland</th>\n",
       "      <td>2.634</td>\n",
       "      <td>1.204</td>\n",
       "      <td>4.064</td>\n",
       "      <td>0.730</td>\n",
       "      <td>158.233</td>\n",
       "      <td>3.610</td>\n",
       "      <td>0.000</td>\n",
       "      <td>***</td>\n",
       "    </tr>\n",
       "    <tr>\n",
       "      <th>wh:gap:islandisland</th>\n",
       "      <td>6.064</td>\n",
       "      <td>4.041</td>\n",
       "      <td>8.086</td>\n",
       "      <td>1.032</td>\n",
       "      <td>158.233</td>\n",
       "      <td>5.876</td>\n",
       "      <td>0.000</td>\n",
       "      <td>***</td>\n",
       "    </tr>\n",
       "  </tbody>\n",
       "</table>\n",
       "</div>"
      ],
      "text/plain": [
       "                     Estimate  2.5_ci  97.5_ci     SE       DF  T-stat  P-val  \\\n",
       "(Intercept)            14.503  12.707   16.299  0.916   34.766  15.830  0.000   \n",
       "wh                      3.757   2.745    4.768  0.516  158.233   7.281  0.000   \n",
       "gap                     2.692   0.888    4.497  0.921   45.769   2.925  0.005   \n",
       "islandisland           -1.993  -3.005   -0.982  0.516  158.233  -3.864  0.000   \n",
       "wh:gap                 -7.129  -8.559   -5.699  0.730  158.233  -9.770  0.000   \n",
       "wh:islandisland        -3.356  -4.786   -1.926  0.730  158.233  -4.599  0.000   \n",
       "gap:islandisland        2.634   1.204    4.064  0.730  158.233   3.610  0.000   \n",
       "wh:gap:islandisland     6.064   4.041    8.086  1.032  158.233   5.876  0.000   \n",
       "\n",
       "                     Sig  \n",
       "(Intercept)          ***  \n",
       "wh                   ***  \n",
       "gap                   **  \n",
       "islandisland         ***  \n",
       "wh:gap               ***  \n",
       "wh:islandisland      ***  \n",
       "gap:islandisland     ***  \n",
       "wh:gap:islandisland  ***  "
      ]
     },
     "execution_count": 384,
     "metadata": {},
     "output_type": "execute_result"
    }
   ],
   "source": [
    "gpt2_island = all_island_surprisals[all_island_surprisals['model'] == 'gpt2']\n",
    "model = Lmer(\"surprisal~wh*gap*island+(gap||item)\", data = gpt2_island)\n",
    "model.fit()\n",
    "model.summary()"
   ]
  }
 ],
 "metadata": {
  "kernelspec": {
   "display_name": "Python 3 (ipykernel)",
   "language": "python",
   "name": "python3"
  },
  "language_info": {
   "codemirror_mode": {
    "name": "ipython",
    "version": 3
   },
   "file_extension": ".py",
   "mimetype": "text/x-python",
   "name": "python",
   "nbconvert_exporter": "python",
   "pygments_lexer": "ipython3",
   "version": "3.9.18"
  }
 },
 "nbformat": 4,
 "nbformat_minor": 5
}
